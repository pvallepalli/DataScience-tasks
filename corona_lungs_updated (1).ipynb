{
  "cells": [
    {
      "cell_type": "code",
      "execution_count": 1,
      "id": "22193526",
      "metadata": {
        "id": "22193526"
      },
      "outputs": [],
      "source": [
        "import pandas as pd\n",
        "import numpy as np"
      ]
    },
    {
      "cell_type": "code",
      "execution_count": 2,
      "id": "6bdfa257",
      "metadata": {
        "colab": {
          "base_uri": "https://localhost:8080/",
          "height": 35
        },
        "id": "6bdfa257",
        "outputId": "faf97d5f-9020-4f3d-995e-470119621115"
      },
      "outputs": [
        {
          "output_type": "execute_result",
          "data": {
            "text/plain": [
              "'/content'"
            ],
            "application/vnd.google.colaboratory.intrinsic+json": {
              "type": "string"
            }
          },
          "metadata": {},
          "execution_count": 2
        }
      ],
      "source": [
        "pwd"
      ]
    },
    {
      "cell_type": "code",
      "execution_count": 10,
      "id": "f5fe88aa",
      "metadata": {
        "id": "f5fe88aa"
      },
      "outputs": [],
      "source": [
        "data = pd.read_csv(\"COVID.csv\")\n"
      ]
    },
    {
      "cell_type": "code",
      "execution_count": null,
      "id": "ed6a3015",
      "metadata": {
        "id": "ed6a3015",
        "outputId": "06f099d6-b770-4af0-b856-39f0d2ca3fa9"
      },
      "outputs": [
        {
          "data": {
            "text/html": [
              "<div>\n",
              "<style scoped>\n",
              "    .dataframe tbody tr th:only-of-type {\n",
              "        vertical-align: middle;\n",
              "    }\n",
              "\n",
              "    .dataframe tbody tr th {\n",
              "        vertical-align: top;\n",
              "    }\n",
              "\n",
              "    .dataframe thead th {\n",
              "        text-align: right;\n",
              "    }\n",
              "</style>\n",
              "<table border=\"1\" class=\"dataframe\">\n",
              "  <thead>\n",
              "    <tr style=\"text-align: right;\">\n",
              "      <th></th>\n",
              "      <th>Unnamed: 0</th>\n",
              "      <th>Unnamed: 0.1</th>\n",
              "      <th>Unnamed: 0.1.1</th>\n",
              "      <th>0</th>\n",
              "      <th>1</th>\n",
              "      <th>2</th>\n",
              "      <th>3</th>\n",
              "      <th>4</th>\n",
              "      <th>5</th>\n",
              "      <th>6</th>\n",
              "      <th>...</th>\n",
              "      <th>150519</th>\n",
              "      <th>150520</th>\n",
              "      <th>150521</th>\n",
              "      <th>150522</th>\n",
              "      <th>150523</th>\n",
              "      <th>150524</th>\n",
              "      <th>150525</th>\n",
              "      <th>150526</th>\n",
              "      <th>150527</th>\n",
              "      <th>labels</th>\n",
              "    </tr>\n",
              "  </thead>\n",
              "  <tbody>\n",
              "    <tr>\n",
              "      <th>0</th>\n",
              "      <td>0</td>\n",
              "      <td>0</td>\n",
              "      <td>radiopaedia-2019-novel-coronavirus-infected-pn...</td>\n",
              "      <td>0</td>\n",
              "      <td>0</td>\n",
              "      <td>0</td>\n",
              "      <td>0</td>\n",
              "      <td>0</td>\n",
              "      <td>0</td>\n",
              "      <td>0</td>\n",
              "      <td>...</td>\n",
              "      <td>0</td>\n",
              "      <td>0</td>\n",
              "      <td>0</td>\n",
              "      <td>0</td>\n",
              "      <td>0</td>\n",
              "      <td>0</td>\n",
              "      <td>0</td>\n",
              "      <td>0</td>\n",
              "      <td>0</td>\n",
              "      <td>covid</td>\n",
              "    </tr>\n",
              "    <tr>\n",
              "      <th>1</th>\n",
              "      <td>1</td>\n",
              "      <td>1</td>\n",
              "      <td>396A81A5-982C-44E9-A57E-9B1DC34E2C08.jpeg</td>\n",
              "      <td>54</td>\n",
              "      <td>54</td>\n",
              "      <td>54</td>\n",
              "      <td>56</td>\n",
              "      <td>56</td>\n",
              "      <td>56</td>\n",
              "      <td>53</td>\n",
              "      <td>...</td>\n",
              "      <td>148</td>\n",
              "      <td>148</td>\n",
              "      <td>148</td>\n",
              "      <td>245</td>\n",
              "      <td>245</td>\n",
              "      <td>245</td>\n",
              "      <td>253</td>\n",
              "      <td>253</td>\n",
              "      <td>253</td>\n",
              "      <td>covid</td>\n",
              "    </tr>\n",
              "    <tr>\n",
              "      <th>2</th>\n",
              "      <td>2</td>\n",
              "      <td>2</td>\n",
              "      <td>8FDE8DBA-CFBD-4B4C-B1A4-6F36A93B7E87.jpeg</td>\n",
              "      <td>1</td>\n",
              "      <td>1</td>\n",
              "      <td>1</td>\n",
              "      <td>1</td>\n",
              "      <td>1</td>\n",
              "      <td>1</td>\n",
              "      <td>1</td>\n",
              "      <td>...</td>\n",
              "      <td>40</td>\n",
              "      <td>40</td>\n",
              "      <td>40</td>\n",
              "      <td>40</td>\n",
              "      <td>40</td>\n",
              "      <td>40</td>\n",
              "      <td>237</td>\n",
              "      <td>237</td>\n",
              "      <td>237</td>\n",
              "      <td>covid</td>\n",
              "    </tr>\n",
              "    <tr>\n",
              "      <th>3</th>\n",
              "      <td>3</td>\n",
              "      <td>3</td>\n",
              "      <td>jkms-35-e79-g001-l-e.jpg</td>\n",
              "      <td>78</td>\n",
              "      <td>78</td>\n",
              "      <td>78</td>\n",
              "      <td>34</td>\n",
              "      <td>34</td>\n",
              "      <td>34</td>\n",
              "      <td>34</td>\n",
              "      <td>...</td>\n",
              "      <td>53</td>\n",
              "      <td>53</td>\n",
              "      <td>53</td>\n",
              "      <td>51</td>\n",
              "      <td>51</td>\n",
              "      <td>51</td>\n",
              "      <td>42</td>\n",
              "      <td>42</td>\n",
              "      <td>42</td>\n",
              "      <td>covid</td>\n",
              "    </tr>\n",
              "    <tr>\n",
              "      <th>4</th>\n",
              "      <td>4</td>\n",
              "      <td>4</td>\n",
              "      <td>jkms-35-e79-g001-l-d.jpg</td>\n",
              "      <td>25</td>\n",
              "      <td>25</td>\n",
              "      <td>25</td>\n",
              "      <td>38</td>\n",
              "      <td>38</td>\n",
              "      <td>38</td>\n",
              "      <td>35</td>\n",
              "      <td>...</td>\n",
              "      <td>199</td>\n",
              "      <td>199</td>\n",
              "      <td>199</td>\n",
              "      <td>205</td>\n",
              "      <td>205</td>\n",
              "      <td>205</td>\n",
              "      <td>202</td>\n",
              "      <td>202</td>\n",
              "      <td>202</td>\n",
              "      <td>covid</td>\n",
              "    </tr>\n",
              "    <tr>\n",
              "      <th>...</th>\n",
              "      <td>...</td>\n",
              "      <td>...</td>\n",
              "      <td>...</td>\n",
              "      <td>...</td>\n",
              "      <td>...</td>\n",
              "      <td>...</td>\n",
              "      <td>...</td>\n",
              "      <td>...</td>\n",
              "      <td>...</td>\n",
              "      <td>...</td>\n",
              "      <td>...</td>\n",
              "      <td>...</td>\n",
              "      <td>...</td>\n",
              "      <td>...</td>\n",
              "      <td>...</td>\n",
              "      <td>...</td>\n",
              "      <td>...</td>\n",
              "      <td>...</td>\n",
              "      <td>...</td>\n",
              "      <td>...</td>\n",
              "      <td>...</td>\n",
              "    </tr>\n",
              "    <tr>\n",
              "      <th>297</th>\n",
              "      <td>146</td>\n",
              "      <td>146</td>\n",
              "      <td>IM-0312-0001.jpeg</td>\n",
              "      <td>20</td>\n",
              "      <td>20</td>\n",
              "      <td>20</td>\n",
              "      <td>20</td>\n",
              "      <td>20</td>\n",
              "      <td>20</td>\n",
              "      <td>26</td>\n",
              "      <td>...</td>\n",
              "      <td>0</td>\n",
              "      <td>0</td>\n",
              "      <td>0</td>\n",
              "      <td>0</td>\n",
              "      <td>0</td>\n",
              "      <td>0</td>\n",
              "      <td>0</td>\n",
              "      <td>0</td>\n",
              "      <td>0</td>\n",
              "      <td>normal</td>\n",
              "    </tr>\n",
              "    <tr>\n",
              "      <th>298</th>\n",
              "      <td>147</td>\n",
              "      <td>147</td>\n",
              "      <td>IM-0306-0001.jpeg</td>\n",
              "      <td>9</td>\n",
              "      <td>9</td>\n",
              "      <td>9</td>\n",
              "      <td>9</td>\n",
              "      <td>9</td>\n",
              "      <td>9</td>\n",
              "      <td>21</td>\n",
              "      <td>...</td>\n",
              "      <td>0</td>\n",
              "      <td>0</td>\n",
              "      <td>0</td>\n",
              "      <td>0</td>\n",
              "      <td>0</td>\n",
              "      <td>0</td>\n",
              "      <td>0</td>\n",
              "      <td>0</td>\n",
              "      <td>0</td>\n",
              "      <td>normal</td>\n",
              "    </tr>\n",
              "    <tr>\n",
              "      <th>299</th>\n",
              "      <td>148</td>\n",
              "      <td>148</td>\n",
              "      <td>IM-0289-0001.jpeg</td>\n",
              "      <td>70</td>\n",
              "      <td>70</td>\n",
              "      <td>70</td>\n",
              "      <td>73</td>\n",
              "      <td>73</td>\n",
              "      <td>73</td>\n",
              "      <td>74</td>\n",
              "      <td>...</td>\n",
              "      <td>0</td>\n",
              "      <td>0</td>\n",
              "      <td>0</td>\n",
              "      <td>0</td>\n",
              "      <td>0</td>\n",
              "      <td>0</td>\n",
              "      <td>0</td>\n",
              "      <td>0</td>\n",
              "      <td>0</td>\n",
              "      <td>normal</td>\n",
              "    </tr>\n",
              "    <tr>\n",
              "      <th>300</th>\n",
              "      <td>149</td>\n",
              "      <td>149</td>\n",
              "      <td>IM-0240-0001.jpeg</td>\n",
              "      <td>54</td>\n",
              "      <td>54</td>\n",
              "      <td>54</td>\n",
              "      <td>55</td>\n",
              "      <td>55</td>\n",
              "      <td>55</td>\n",
              "      <td>61</td>\n",
              "      <td>...</td>\n",
              "      <td>7</td>\n",
              "      <td>7</td>\n",
              "      <td>7</td>\n",
              "      <td>6</td>\n",
              "      <td>6</td>\n",
              "      <td>6</td>\n",
              "      <td>5</td>\n",
              "      <td>5</td>\n",
              "      <td>5</td>\n",
              "      <td>normal</td>\n",
              "    </tr>\n",
              "    <tr>\n",
              "      <th>301</th>\n",
              "      <td>150</td>\n",
              "      <td>150</td>\n",
              "      <td>IM-0183-0001.jpeg</td>\n",
              "      <td>0</td>\n",
              "      <td>0</td>\n",
              "      <td>0</td>\n",
              "      <td>0</td>\n",
              "      <td>0</td>\n",
              "      <td>0</td>\n",
              "      <td>4</td>\n",
              "      <td>...</td>\n",
              "      <td>0</td>\n",
              "      <td>0</td>\n",
              "      <td>0</td>\n",
              "      <td>0</td>\n",
              "      <td>0</td>\n",
              "      <td>0</td>\n",
              "      <td>0</td>\n",
              "      <td>0</td>\n",
              "      <td>0</td>\n",
              "      <td>normal</td>\n",
              "    </tr>\n",
              "  </tbody>\n",
              "</table>\n",
              "<p>302 rows × 150532 columns</p>\n",
              "</div>"
            ],
            "text/plain": [
              "     Unnamed: 0  Unnamed: 0.1  \\\n",
              "0             0             0   \n",
              "1             1             1   \n",
              "2             2             2   \n",
              "3             3             3   \n",
              "4             4             4   \n",
              "..          ...           ...   \n",
              "297         146           146   \n",
              "298         147           147   \n",
              "299         148           148   \n",
              "300         149           149   \n",
              "301         150           150   \n",
              "\n",
              "                                        Unnamed: 0.1.1   0   1   2   3   4  \\\n",
              "0    radiopaedia-2019-novel-coronavirus-infected-pn...   0   0   0   0   0   \n",
              "1            396A81A5-982C-44E9-A57E-9B1DC34E2C08.jpeg  54  54  54  56  56   \n",
              "2            8FDE8DBA-CFBD-4B4C-B1A4-6F36A93B7E87.jpeg   1   1   1   1   1   \n",
              "3                             jkms-35-e79-g001-l-e.jpg  78  78  78  34  34   \n",
              "4                             jkms-35-e79-g001-l-d.jpg  25  25  25  38  38   \n",
              "..                                                 ...  ..  ..  ..  ..  ..   \n",
              "297                                  IM-0312-0001.jpeg  20  20  20  20  20   \n",
              "298                                  IM-0306-0001.jpeg   9   9   9   9   9   \n",
              "299                                  IM-0289-0001.jpeg  70  70  70  73  73   \n",
              "300                                  IM-0240-0001.jpeg  54  54  54  55  55   \n",
              "301                                  IM-0183-0001.jpeg   0   0   0   0   0   \n",
              "\n",
              "      5   6  ...  150519  150520  150521  150522  150523  150524  150525  \\\n",
              "0     0   0  ...       0       0       0       0       0       0       0   \n",
              "1    56  53  ...     148     148     148     245     245     245     253   \n",
              "2     1   1  ...      40      40      40      40      40      40     237   \n",
              "3    34  34  ...      53      53      53      51      51      51      42   \n",
              "4    38  35  ...     199     199     199     205     205     205     202   \n",
              "..   ..  ..  ...     ...     ...     ...     ...     ...     ...     ...   \n",
              "297  20  26  ...       0       0       0       0       0       0       0   \n",
              "298   9  21  ...       0       0       0       0       0       0       0   \n",
              "299  73  74  ...       0       0       0       0       0       0       0   \n",
              "300  55  61  ...       7       7       7       6       6       6       5   \n",
              "301   0   4  ...       0       0       0       0       0       0       0   \n",
              "\n",
              "     150526  150527  labels  \n",
              "0         0       0   covid  \n",
              "1       253     253   covid  \n",
              "2       237     237   covid  \n",
              "3        42      42   covid  \n",
              "4       202     202   covid  \n",
              "..      ...     ...     ...  \n",
              "297       0       0  normal  \n",
              "298       0       0  normal  \n",
              "299       0       0  normal  \n",
              "300       5       5  normal  \n",
              "301       0       0  normal  \n",
              "\n",
              "[302 rows x 150532 columns]"
            ]
          },
          "execution_count": 4,
          "metadata": {},
          "output_type": "execute_result"
        }
      ],
      "source": [
        "data"
      ]
    },
    {
      "cell_type": "code",
      "execution_count": 11,
      "id": "f893eca7",
      "metadata": {
        "id": "f893eca7"
      },
      "outputs": [],
      "source": [
        "data = data.drop(['Unnamed: 0', 'Unnamed: 0.1'], axis=1)"
      ]
    },
    {
      "cell_type": "code",
      "execution_count": 12,
      "id": "a5a00e1a",
      "metadata": {
        "id": "a5a00e1a"
      },
      "outputs": [],
      "source": [
        "data = data.set_index(['Unnamed: 0.1.1'])"
      ]
    },
    {
      "cell_type": "code",
      "execution_count": 13,
      "id": "39ba38c1",
      "metadata": {
        "id": "39ba38c1"
      },
      "outputs": [],
      "source": [
        "X = data.iloc[:, :-1].values\n",
        "y = data.iloc[:, -1].values"
      ]
    },
    {
      "cell_type": "code",
      "execution_count": 14,
      "id": "c774d694",
      "metadata": {
        "colab": {
          "base_uri": "https://localhost:8080/"
        },
        "id": "c774d694",
        "outputId": "ef669bff-590a-486d-b4ff-48ae190006b4"
      },
      "outputs": [
        {
          "output_type": "execute_result",
          "data": {
            "text/plain": [
              "nan"
            ]
          },
          "metadata": {},
          "execution_count": 14
        }
      ],
      "source": [
        "y[-1]"
      ]
    },
    {
      "cell_type": "code",
      "execution_count": 15,
      "id": "85a18aa3",
      "metadata": {
        "id": "85a18aa3"
      },
      "outputs": [],
      "source": [
        "from sklearn.preprocessing import LabelEncoder\n",
        "from sklearn.preprocessing import StandardScaler\n"
      ]
    },
    {
      "cell_type": "code",
      "execution_count": 16,
      "id": "9f66289d",
      "metadata": {
        "id": "9f66289d"
      },
      "outputs": [],
      "source": [
        "sc = StandardScaler()\n",
        "X  = sc.fit_transform(X)"
      ]
    },
    {
      "cell_type": "code",
      "execution_count": 29,
      "id": "cfd05c99",
      "metadata": {
        "colab": {
          "base_uri": "https://localhost:8080/",
          "height": 396
        },
        "id": "cfd05c99",
        "outputId": "c5922767-5a6b-46b2-cd29-25914316f0b4"
      },
      "outputs": [
        {
          "output_type": "stream",
          "name": "stderr",
          "text": [
            "Clipping input data to the valid range for imshow with RGB data ([0..1] for floats or [0..255] for integers).\n",
            "Clipping input data to the valid range for imshow with RGB data ([0..1] for floats or [0..255] for integers).\n"
          ]
        },
        {
          "output_type": "error",
          "ename": "TypeError",
          "evalue": "ignored",
          "traceback": [
            "\u001b[0;31m---------------------------------------------------------------------------\u001b[0m",
            "\u001b[0;31mTypeError\u001b[0m                                 Traceback (most recent call last)",
            "\u001b[0;32m<ipython-input-29-cc9c76f11de0>\u001b[0m in \u001b[0;36m<module>\u001b[0;34m()\u001b[0m\n\u001b[1;32m      5\u001b[0m \u001b[0max2\u001b[0m\u001b[0;34m.\u001b[0m\u001b[0mimshow\u001b[0m\u001b[0;34m(\u001b[0m\u001b[0mX\u001b[0m\u001b[0;34m[\u001b[0m\u001b[0;34m-\u001b[0m\u001b[0;36m1\u001b[0m\u001b[0;34m]\u001b[0m\u001b[0;34m.\u001b[0m\u001b[0mreshape\u001b[0m\u001b[0;34m(\u001b[0m\u001b[0;36m224\u001b[0m\u001b[0;34m,\u001b[0m \u001b[0;36m224\u001b[0m\u001b[0;34m,\u001b[0m \u001b[0;36m3\u001b[0m\u001b[0;34m)\u001b[0m\u001b[0;34m.\u001b[0m\u001b[0mastype\u001b[0m\u001b[0;34m(\u001b[0m\u001b[0mfloat\u001b[0m\u001b[0;34m)\u001b[0m\u001b[0;34m)\u001b[0m\u001b[0;34m\u001b[0m\u001b[0;34m\u001b[0m\u001b[0m\n\u001b[1;32m      6\u001b[0m \u001b[0max1\u001b[0m\u001b[0;34m.\u001b[0m\u001b[0mtitle\u001b[0m\u001b[0;34m.\u001b[0m\u001b[0mset_text\u001b[0m\u001b[0;34m(\u001b[0m\u001b[0;34m\"label :-\"\u001b[0m\u001b[0;34m+\u001b[0m\u001b[0my\u001b[0m\u001b[0;34m[\u001b[0m\u001b[0;36m1\u001b[0m\u001b[0;34m]\u001b[0m\u001b[0;34m)\u001b[0m\u001b[0;34m\u001b[0m\u001b[0;34m\u001b[0m\u001b[0m\n\u001b[0;32m----> 7\u001b[0;31m \u001b[0max2\u001b[0m\u001b[0;34m.\u001b[0m\u001b[0mtitle\u001b[0m\u001b[0;34m.\u001b[0m\u001b[0mset_text\u001b[0m\u001b[0;34m(\u001b[0m\u001b[0;34m\"Label :-\"\u001b[0m\u001b[0;34m+\u001b[0m\u001b[0my\u001b[0m\u001b[0;34m[\u001b[0m\u001b[0;34m-\u001b[0m\u001b[0;36m1\u001b[0m\u001b[0;34m]\u001b[0m\u001b[0;34m)\u001b[0m\u001b[0;34m\u001b[0m\u001b[0;34m\u001b[0m\u001b[0m\n\u001b[0m",
            "\u001b[0;31mTypeError\u001b[0m: can only concatenate str (not \"float\") to str"
          ]
        },
        {
          "output_type": "display_data",
          "data": {
            "text/plain": [
              "<Figure size 576x144 with 2 Axes>"
            ],
            "image/png": "[encoded data removed]"
          },
          "metadata": {
            "needs_background": "light"
          }
        }
      ],
      "source": [
        "import matplotlib.pyplot as plt\n",
        "\n",
        "fig, (ax1, ax2) = plt.subplots(1, 2, figsize=(8, 2))\n",
        "ax1.imshow(X[1].reshape(224, 224, 3).astype(float))\n",
        "ax2.imshow(X[-1].reshape(224, 224, 3).astype(float))\n",
        "ax1.title.set_text(\"label :-\"+y[1])\n",
        "ax2.title.set_text(\"Label :-\"+y[-1])"
      ]
    },
    {
      "cell_type": "code",
      "execution_count": null,
      "id": "fc87d2b9",
      "metadata": {
        "id": "fc87d2b9"
      },
      "outputs": [],
      "source": [
        "# def plot_defects(defect_types, rows, cols):\n",
        "#     fig, ax = plt.subplots(rows, cols, figsize=(12, 12))\n",
        "#     defect_files = data['COVID'][data['Disease Type'] == defect_types].values\n",
        "    \n",
        "#     n = 0\n",
        "#     fig.suptitle(defect_types, fontsize = 22, color = \"white\")\n",
        "#     for i in range(rows):\n",
        "#         for j in range(cols):\n",
        "#             image_path = os.path.join(data_dir, defect_files[n])\n",
        "#             ax[i, j].set_xticks([])\n",
        "#             ax[i, j].set_yticks([])\n",
        "#             ax[i, j].imshow(cv2.imread(image_path))\n",
        "#             n += 1\n",
        "\n",
        "\n",
        "# plot_defects('COVID', 3, 3)\n",
        "# plot_defects('non-COVID', 3, 3)"
      ]
    },
    {
      "cell_type": "code",
      "execution_count": 30,
      "id": "2c92bdc5",
      "metadata": {
        "colab": {
          "base_uri": "https://localhost:8080/",
          "height": 396
        },
        "id": "2c92bdc5",
        "outputId": "bfcf6340-60bc-48d3-9f02-3a8e846f7d48"
      },
      "outputs": [
        {
          "output_type": "stream",
          "name": "stderr",
          "text": [
            "Clipping input data to the valid range for imshow with RGB data ([0..1] for floats or [0..255] for integers).\n",
            "Clipping input data to the valid range for imshow with RGB data ([0..1] for floats or [0..255] for integers).\n"
          ]
        },
        {
          "output_type": "error",
          "ename": "TypeError",
          "evalue": "ignored",
          "traceback": [
            "\u001b[0;31m---------------------------------------------------------------------------\u001b[0m",
            "\u001b[0;31mTypeError\u001b[0m                                 Traceback (most recent call last)",
            "\u001b[0;32m<ipython-input-30-87053c95c224>\u001b[0m in \u001b[0;36m<module>\u001b[0;34m()\u001b[0m\n\u001b[1;32m      4\u001b[0m \u001b[0max2\u001b[0m\u001b[0;34m.\u001b[0m\u001b[0mimshow\u001b[0m\u001b[0;34m(\u001b[0m\u001b[0mX\u001b[0m\u001b[0;34m[\u001b[0m\u001b[0;34m-\u001b[0m\u001b[0;36m1\u001b[0m\u001b[0;34m]\u001b[0m\u001b[0;34m.\u001b[0m\u001b[0mreshape\u001b[0m\u001b[0;34m(\u001b[0m\u001b[0;36m224\u001b[0m\u001b[0;34m,\u001b[0m \u001b[0;36m224\u001b[0m\u001b[0;34m,\u001b[0m \u001b[0;36m3\u001b[0m\u001b[0;34m)\u001b[0m\u001b[0;34m.\u001b[0m\u001b[0mastype\u001b[0m\u001b[0;34m(\u001b[0m\u001b[0mfloat\u001b[0m\u001b[0;34m)\u001b[0m\u001b[0;34m)\u001b[0m\u001b[0;34m\u001b[0m\u001b[0;34m\u001b[0m\u001b[0m\n\u001b[1;32m      5\u001b[0m \u001b[0max1\u001b[0m\u001b[0;34m.\u001b[0m\u001b[0mtitle\u001b[0m\u001b[0;34m.\u001b[0m\u001b[0mset_text\u001b[0m\u001b[0;34m(\u001b[0m\u001b[0;34m\"label :-\"\u001b[0m\u001b[0;34m+\u001b[0m\u001b[0my\u001b[0m\u001b[0;34m[\u001b[0m\u001b[0;36m1\u001b[0m\u001b[0;34m]\u001b[0m\u001b[0;34m)\u001b[0m\u001b[0;34m\u001b[0m\u001b[0;34m\u001b[0m\u001b[0m\n\u001b[0;32m----> 6\u001b[0;31m \u001b[0max2\u001b[0m\u001b[0;34m.\u001b[0m\u001b[0mtitle\u001b[0m\u001b[0;34m.\u001b[0m\u001b[0mset_text\u001b[0m\u001b[0;34m(\u001b[0m\u001b[0;34m\"Label :-\"\u001b[0m\u001b[0;34m+\u001b[0m\u001b[0my\u001b[0m\u001b[0;34m[\u001b[0m\u001b[0;34m-\u001b[0m\u001b[0;36m1\u001b[0m\u001b[0;34m]\u001b[0m\u001b[0;34m)\u001b[0m\u001b[0;34m\u001b[0m\u001b[0;34m\u001b[0m\u001b[0m\n\u001b[0m",
            "\u001b[0;31mTypeError\u001b[0m: can only concatenate str (not \"float\") to str"
          ]
        },
        {
          "output_type": "display_data",
          "data": {
            "text/plain": [
              "<Figure size 576x144 with 2 Axes>"
            ],
            "image/png": "[encoded data removed]"
          },
          "metadata": {
            "needs_background": "light"
          }
        }
      ],
      "source": [
        "import matplotlib.pyplot as plt\n",
        "fig, (ax1, ax2) = plt.subplots(1, 2, figsize=(8, 2))\n",
        "ax1.imshow(X[1].reshape(224, 224, 3).astype(float))\n",
        "ax2.imshow(X[-1].reshape(224, 224, 3).astype(float))\n",
        "ax1.title.set_text(\"label :-\"+y[1])\n",
        "ax2.title.set_text(\"Label :-\"+y[-1])"
      ]
    },
    {
      "cell_type": "code",
      "execution_count": 31,
      "id": "c1782666",
      "metadata": {
        "id": "c1782666"
      },
      "outputs": [],
      "source": [
        "from sklearn.model_selection import train_test_split\n",
        "\n",
        "X_train, X_test, y_train, y_test = train_test_split(X, y, test_size=0.1, random_state=54)\n"
      ]
    },
    {
      "cell_type": "code",
      "execution_count": 32,
      "id": "55c93a32",
      "metadata": {
        "id": "55c93a32"
      },
      "outputs": [],
      "source": [
        "X_train, X_val, y_train, y_val = train_test_split(X_train, y_train, test_size=0.1, random_state=54)\n"
      ]
    },
    {
      "cell_type": "code",
      "execution_count": 33,
      "id": "044a891f",
      "metadata": {
        "colab": {
          "base_uri": "https://localhost:8080/"
        },
        "id": "044a891f",
        "outputId": "90fe88d0-9989-48fd-ed6a-8c52e9d43745"
      },
      "outputs": [
        {
          "output_type": "execute_result",
          "data": {
            "text/plain": [
              "((12, 150528), (2, 150528), (2, 150528), (12,), (2,), (2,))"
            ]
          },
          "metadata": {},
          "execution_count": 33
        }
      ],
      "source": [
        "X_train.shape, X_test.shape, X_val.shape, y_train.shape, y_test.shape, y_val.shape"
      ]
    },
    {
      "cell_type": "code",
      "execution_count": 34,
      "id": "5759d21e",
      "metadata": {
        "id": "5759d21e"
      },
      "outputs": [],
      "source": [
        "X_train = X_train.reshape(len(X_train), 224, 224, 3).astype(float)\n",
        "X_test = X_test.reshape(len(X_test), 224, 224, 3).astype(float)\n",
        "X_val = X_val.reshape(len(X_val), 224, 224, 3).astype(float)\n"
      ]
    },
    {
      "cell_type": "code",
      "execution_count": 35,
      "id": "0b7dce8b",
      "metadata": {
        "colab": {
          "base_uri": "https://localhost:8080/"
        },
        "id": "0b7dce8b",
        "outputId": "aa6224f2-849b-45bc-a9db-6458473d259c"
      },
      "outputs": [
        {
          "output_type": "stream",
          "name": "stdout",
          "text": [
            "Looking in indexes: https://pypi.org/simple, https://us-python.pkg.dev/colab-wheels/public/simple/\n",
            "Requirement already satisfied: keras in /usr/local/lib/python3.7/dist-packages (2.8.0)\n"
          ]
        }
      ],
      "source": [
        "pip install keras "
      ]
    },
    {
      "cell_type": "code",
      "execution_count": 36,
      "id": "dde4dbd3",
      "metadata": {
        "id": "dde4dbd3"
      },
      "outputs": [],
      "source": [
        "from sklearn import preprocessing"
      ]
    },
    {
      "cell_type": "code",
      "execution_count": 37,
      "id": "7bafb4f0",
      "metadata": {
        "colab": {
          "base_uri": "https://localhost:8080/"
        },
        "id": "7bafb4f0",
        "outputId": "72ea0797-20ab-442f-87d8-d3e1e9a2f3dd"
      },
      "outputs": [
        {
          "output_type": "stream",
          "name": "stdout",
          "text": [
            "Looking in indexes: https://pypi.org/simple, https://us-python.pkg.dev/colab-wheels/public/simple/\n",
            "Requirement already satisfied: scikit-learn in /usr/local/lib/python3.7/dist-packages (1.0.2)\n",
            "Requirement already satisfied: scipy>=1.1.0 in /usr/local/lib/python3.7/dist-packages (from scikit-learn) (1.4.1)\n",
            "Requirement already satisfied: joblib>=0.11 in /usr/local/lib/python3.7/dist-packages (from scikit-learn) (1.1.0)\n",
            "Requirement already satisfied: threadpoolctl>=2.0.0 in /usr/local/lib/python3.7/dist-packages (from scikit-learn) (3.1.0)\n",
            "Requirement already satisfied: numpy>=1.14.6 in /usr/local/lib/python3.7/dist-packages (from scikit-learn) (1.21.6)\n"
          ]
        }
      ],
      "source": [
        "pip install scikit-learn"
      ]
    },
    {
      "cell_type": "code",
      "execution_count": null,
      "id": "64158e05",
      "metadata": {
        "id": "64158e05"
      },
      "outputs": [],
      "source": [
        "# import tensorflow as tf"
      ]
    },
    {
      "cell_type": "code",
      "execution_count": 38,
      "id": "f83cea17",
      "metadata": {
        "id": "f83cea17"
      },
      "outputs": [],
      "source": [
        "# import keras\n",
        "from sklearn.preprocessing import LabelEncoder\n",
        "from sklearn.preprocessing import StandardScaler\n"
      ]
    },
    {
      "cell_type": "code",
      "execution_count": 39,
      "id": "cfd52333",
      "metadata": {
        "id": "cfd52333"
      },
      "outputs": [],
      "source": [
        "lb = LabelEncoder()\n",
        "\n",
        "y_train = lb.fit_transform(y_train)\n",
        "y_test = lb.fit_transform(y_test)\n",
        "y_val = lb.fit_transform(y_val)"
      ]
    },
    {
      "cell_type": "code",
      "execution_count": 40,
      "id": "c40cb6a6",
      "metadata": {
        "colab": {
          "base_uri": "https://localhost:8080/"
        },
        "id": "c40cb6a6",
        "outputId": "11b8907b-b705-4256-b59d-6f062229cd99"
      },
      "outputs": [
        {
          "output_type": "stream",
          "name": "stdout",
          "text": [
            "Looking in indexes: https://pypi.org/simple, https://us-python.pkg.dev/colab-wheels/public/simple/\n",
            "Requirement already satisfied: keras in /usr/local/lib/python3.7/dist-packages (2.8.0)\n"
          ]
        }
      ],
      "source": [
        "pip install keras"
      ]
    },
    {
      "cell_type": "code",
      "execution_count": 41,
      "id": "d4e8d28a",
      "metadata": {
        "colab": {
          "base_uri": "https://localhost:8080/"
        },
        "id": "d4e8d28a",
        "outputId": "745ef266-bcff-4d81-d814-8849834913b3"
      },
      "outputs": [
        {
          "output_type": "stream",
          "name": "stdout",
          "text": [
            "Looking in indexes: https://pypi.org/simple, https://us-python.pkg.dev/colab-wheels/public/simple/\n",
            "Requirement already satisfied: tensorflow in /usr/local/lib/python3.7/dist-packages (2.8.2+zzzcolab20220527125636)\n",
            "Requirement already satisfied: google-pasta>=0.1.1 in /usr/local/lib/python3.7/dist-packages (from tensorflow) (0.2.0)\n",
            "Requirement already satisfied: tensorflow-io-gcs-filesystem>=0.23.1 in /usr/local/lib/python3.7/dist-packages (from tensorflow) (0.26.0)\n",
            "Requirement already satisfied: opt-einsum>=2.3.2 in /usr/local/lib/python3.7/dist-packages (from tensorflow) (3.3.0)\n",
            "Requirement already satisfied: keras<2.9,>=2.8.0rc0 in /usr/local/lib/python3.7/dist-packages (from tensorflow) (2.8.0)\n",
            "Requirement already satisfied: protobuf<3.20,>=3.9.2 in /usr/local/lib/python3.7/dist-packages (from tensorflow) (3.17.3)\n",
            "Requirement already satisfied: keras-preprocessing>=1.1.1 in /usr/local/lib/python3.7/dist-packages (from tensorflow) (1.1.2)\n",
            "Requirement already satisfied: six>=1.12.0 in /usr/local/lib/python3.7/dist-packages (from tensorflow) (1.15.0)\n",
            "Requirement already satisfied: setuptools in /usr/local/lib/python3.7/dist-packages (from tensorflow) (57.4.0)\n",
            "Requirement already satisfied: tensorboard<2.9,>=2.8 in /usr/local/lib/python3.7/dist-packages (from tensorflow) (2.8.0)\n",
            "Requirement already satisfied: gast>=0.2.1 in /usr/local/lib/python3.7/dist-packages (from tensorflow) (0.5.3)\n",
            "Requirement already satisfied: numpy>=1.20 in /usr/local/lib/python3.7/dist-packages (from tensorflow) (1.21.6)\n",
            "Requirement already satisfied: absl-py>=0.4.0 in /usr/local/lib/python3.7/dist-packages (from tensorflow) (1.1.0)\n",
            "Requirement already satisfied: termcolor>=1.1.0 in /usr/local/lib/python3.7/dist-packages (from tensorflow) (1.1.0)\n",
            "Requirement already satisfied: libclang>=9.0.1 in /usr/local/lib/python3.7/dist-packages (from tensorflow) (14.0.1)\n",
            "Requirement already satisfied: tensorflow-estimator<2.9,>=2.8 in /usr/local/lib/python3.7/dist-packages (from tensorflow) (2.8.0)\n",
            "Requirement already satisfied: flatbuffers>=1.12 in /usr/local/lib/python3.7/dist-packages (from tensorflow) (2.0)\n",
            "Requirement already satisfied: wrapt>=1.11.0 in /usr/local/lib/python3.7/dist-packages (from tensorflow) (1.14.1)\n",
            "Requirement already satisfied: grpcio<2.0,>=1.24.3 in /usr/local/lib/python3.7/dist-packages (from tensorflow) (1.46.3)\n",
            "Requirement already satisfied: h5py>=2.9.0 in /usr/local/lib/python3.7/dist-packages (from tensorflow) (3.1.0)\n",
            "Requirement already satisfied: astunparse>=1.6.0 in /usr/local/lib/python3.7/dist-packages (from tensorflow) (1.6.3)\n",
            "Requirement already satisfied: typing-extensions>=3.6.6 in /usr/local/lib/python3.7/dist-packages (from tensorflow) (4.1.1)\n",
            "Requirement already satisfied: wheel<1.0,>=0.23.0 in /usr/local/lib/python3.7/dist-packages (from astunparse>=1.6.0->tensorflow) (0.37.1)\n",
            "Requirement already satisfied: cached-property in /usr/local/lib/python3.7/dist-packages (from h5py>=2.9.0->tensorflow) (1.5.2)\n",
            "Requirement already satisfied: tensorboard-plugin-wit>=1.6.0 in /usr/local/lib/python3.7/dist-packages (from tensorboard<2.9,>=2.8->tensorflow) (1.8.1)\n",
            "Requirement already satisfied: tensorboard-data-server<0.7.0,>=0.6.0 in /usr/local/lib/python3.7/dist-packages (from tensorboard<2.9,>=2.8->tensorflow) (0.6.1)\n",
            "Requirement already satisfied: google-auth-oauthlib<0.5,>=0.4.1 in /usr/local/lib/python3.7/dist-packages (from tensorboard<2.9,>=2.8->tensorflow) (0.4.6)\n",
            "Requirement already satisfied: markdown>=2.6.8 in /usr/local/lib/python3.7/dist-packages (from tensorboard<2.9,>=2.8->tensorflow) (3.3.7)\n",
            "Requirement already satisfied: google-auth<3,>=1.6.3 in /usr/local/lib/python3.7/dist-packages (from tensorboard<2.9,>=2.8->tensorflow) (1.35.0)\n",
            "Requirement already satisfied: requests<3,>=2.21.0 in /usr/local/lib/python3.7/dist-packages (from tensorboard<2.9,>=2.8->tensorflow) (2.23.0)\n",
            "Requirement already satisfied: werkzeug>=0.11.15 in /usr/local/lib/python3.7/dist-packages (from tensorboard<2.9,>=2.8->tensorflow) (1.0.1)\n",
            "Requirement already satisfied: pyasn1-modules>=0.2.1 in /usr/local/lib/python3.7/dist-packages (from google-auth<3,>=1.6.3->tensorboard<2.9,>=2.8->tensorflow) (0.2.8)\n",
            "Requirement already satisfied: rsa<5,>=3.1.4 in /usr/local/lib/python3.7/dist-packages (from google-auth<3,>=1.6.3->tensorboard<2.9,>=2.8->tensorflow) (4.8)\n",
            "Requirement already satisfied: cachetools<5.0,>=2.0.0 in /usr/local/lib/python3.7/dist-packages (from google-auth<3,>=1.6.3->tensorboard<2.9,>=2.8->tensorflow) (4.2.4)\n",
            "Requirement already satisfied: requests-oauthlib>=0.7.0 in /usr/local/lib/python3.7/dist-packages (from google-auth-oauthlib<0.5,>=0.4.1->tensorboard<2.9,>=2.8->tensorflow) (1.3.1)\n",
            "Requirement already satisfied: importlib-metadata>=4.4 in /usr/local/lib/python3.7/dist-packages (from markdown>=2.6.8->tensorboard<2.9,>=2.8->tensorflow) (4.11.4)\n",
            "Requirement already satisfied: zipp>=0.5 in /usr/local/lib/python3.7/dist-packages (from importlib-metadata>=4.4->markdown>=2.6.8->tensorboard<2.9,>=2.8->tensorflow) (3.8.0)\n",
            "Requirement already satisfied: pyasn1<0.5.0,>=0.4.6 in /usr/local/lib/python3.7/dist-packages (from pyasn1-modules>=0.2.1->google-auth<3,>=1.6.3->tensorboard<2.9,>=2.8->tensorflow) (0.4.8)\n",
            "Requirement already satisfied: chardet<4,>=3.0.2 in /usr/local/lib/python3.7/dist-packages (from requests<3,>=2.21.0->tensorboard<2.9,>=2.8->tensorflow) (3.0.4)\n",
            "Requirement already satisfied: urllib3!=1.25.0,!=1.25.1,<1.26,>=1.21.1 in /usr/local/lib/python3.7/dist-packages (from requests<3,>=2.21.0->tensorboard<2.9,>=2.8->tensorflow) (1.24.3)\n",
            "Requirement already satisfied: idna<3,>=2.5 in /usr/local/lib/python3.7/dist-packages (from requests<3,>=2.21.0->tensorboard<2.9,>=2.8->tensorflow) (2.10)\n",
            "Requirement already satisfied: certifi>=2017.4.17 in /usr/local/lib/python3.7/dist-packages (from requests<3,>=2.21.0->tensorboard<2.9,>=2.8->tensorflow) (2022.6.15)\n",
            "Requirement already satisfied: oauthlib>=3.0.0 in /usr/local/lib/python3.7/dist-packages (from requests-oauthlib>=0.7.0->google-auth-oauthlib<0.5,>=0.4.1->tensorboard<2.9,>=2.8->tensorflow) (3.2.0)\n"
          ]
        }
      ],
      "source": [
        "pip install tensorflow"
      ]
    },
    {
      "cell_type": "code",
      "execution_count": 42,
      "id": "5eacfd8b",
      "metadata": {
        "colab": {
          "base_uri": "https://localhost:8080/"
        },
        "id": "5eacfd8b",
        "outputId": "321b0f2b-f62c-4f94-c4e3-f1589bbdfe2c"
      },
      "outputs": [
        {
          "output_type": "stream",
          "name": "stdout",
          "text": [
            "Looking in indexes: https://pypi.org/simple, https://us-python.pkg.dev/colab-wheels/public/simple/\n",
            "Collecting utils\n",
            "  Downloading utils-1.0.1-py2.py3-none-any.whl (21 kB)\n",
            "Installing collected packages: utils\n",
            "Successfully installed utils-1.0.1\n"
          ]
        }
      ],
      "source": [
        "pip install utils"
      ]
    },
    {
      "cell_type": "code",
      "execution_count": 44,
      "id": "16f265f4",
      "metadata": {
        "id": "16f265f4"
      },
      "outputs": [],
      "source": [
        "# from keras.utils import to_categorical\n",
        "\n",
        "from tensorflow.keras.utils import to_categorical\n",
        "\n",
        "# import keras\n",
        "# import keras.utils\n",
        "# from keras import utils as np_utils\n",
        "\n",
        "y_train = to_categorical(y_train).astype(float)\n",
        "y_test = to_categorical(y_test).astype(float)\n",
        "y_val = to_categorical(y_val).astype(float)"
      ]
    },
    {
      "cell_type": "code",
      "execution_count": 45,
      "id": "ee5414e7",
      "metadata": {
        "colab": {
          "base_uri": "https://localhost:8080/"
        },
        "id": "ee5414e7",
        "outputId": "08202b92-5007-414f-a759-849c7550434a"
      },
      "outputs": [
        {
          "output_type": "stream",
          "name": "stdout",
          "text": [
            "Looking in indexes: https://pypi.org/simple, https://us-python.pkg.dev/colab-wheels/public/simple/\n",
            "Collecting Adam\n",
            "  Downloading adam-0.0.0.dev0-py2.py3-none-any.whl (2.6 kB)\n",
            "Installing collected packages: Adam\n",
            "Successfully installed Adam-0.0.0.dev0\n"
          ]
        }
      ],
      "source": [
        "pip install Adam"
      ]
    },
    {
      "cell_type": "code",
      "execution_count": 47,
      "id": "1ba8e61d",
      "metadata": {
        "id": "1ba8e61d"
      },
      "outputs": [],
      "source": [
        "from keras.layers import Conv2D,Dense,Dropout,Flatten,MaxPool2D\n",
        "from keras.models import Sequential\n",
        "# from keras.optimizers import Adam\n",
        "from tensorflow.keras.optimizers import Adam"
      ]
    },
    {
      "cell_type": "code",
      "execution_count": 48,
      "id": "8bd661c8",
      "metadata": {
        "id": "8bd661c8"
      },
      "outputs": [],
      "source": [
        "import os\n",
        "os.environ[\"CUDA_VISIBLE_DEVICES\"] = '1'"
      ]
    },
    {
      "cell_type": "code",
      "execution_count": null,
      "id": "47df36da",
      "metadata": {
        "id": "47df36da"
      },
      "outputs": [],
      "source": [
        ""
      ]
    },
    {
      "cell_type": "code",
      "execution_count": 50,
      "id": "0d2d6d8a",
      "metadata": {
        "id": "0d2d6d8a"
      },
      "outputs": [],
      "source": [
        "from keras.models import Sequential\n"
      ]
    },
    {
      "cell_type": "code",
      "execution_count": 51,
      "id": "ad896993",
      "metadata": {
        "colab": {
          "base_uri": "https://localhost:8080/"
        },
        "id": "ad896993",
        "outputId": "59e893ac-78ed-4833-fcb1-4c457f1f0b6f"
      },
      "outputs": [
        {
          "output_type": "stream",
          "name": "stdout",
          "text": [
            "Looking in indexes: https://pypi.org/simple, https://us-python.pkg.dev/colab-wheels/public/simple/\n",
            "Collecting Sequential\n",
            "  Downloading sequential-1.0.0.tar.gz (2.3 kB)\n",
            "Building wheels for collected packages: Sequential\n",
            "  Building wheel for Sequential (setup.py) ... \u001b[?25l\u001b[?25hdone\n",
            "  Created wheel for Sequential: filename=sequential-1.0.0-py3-none-any.whl size=2878 sha256=31445e100f69ac906cceff44612518cebbeb5c5cd17ea89275b473108548c002\n",
            "  Stored in directory: /root/.cache/pip/wheels/36/1a/15/0286e549c5261b90879e5e7baa6ce8544d8c32db1d61b62e0a\n",
            "Successfully built Sequential\n",
            "Installing collected packages: Sequential\n",
            "Successfully installed Sequential-1.0.0\n"
          ]
        }
      ],
      "source": [
        "pip install Sequential"
      ]
    },
    {
      "cell_type": "code",
      "execution_count": null,
      "id": "0de4b59d",
      "metadata": {
        "id": "0de4b59d"
      },
      "outputs": [],
      "source": [
        "# from tensorflow.keras import Sequential\n",
        "# from keras.utils.visualize_util import to_graph\n",
        "# from keras.models import Sequential"
      ]
    },
    {
      "cell_type": "code",
      "execution_count": 52,
      "id": "942b9529",
      "metadata": {
        "id": "942b9529"
      },
      "outputs": [],
      "source": [
        "from keras.models import Sequential\n",
        "\n",
        "model = Sequential()\n",
        "\n",
        "model.add(Conv2D(8, kernel_size=(5, 5), strides=(1,1), padding=\"valid\", activation=\"relu\", input_shape=(224, 224, 3)))\n",
        "model.add(MaxPool2D((4, 4)))\n",
        "model.add(Conv2D(16, kernel_size=(3, 3), strides=(1,1), padding=\"valid\", activation=\"relu\"))\n",
        "model.add(Dropout(0.25))\n",
        "model.add(Conv2D(32, kernel_size=(2, 2), strides=(1,1), padding=\"valid\", activation=\"relu\"))\n",
        "model.add(MaxPool2D((2, 2)))\n",
        "model.add(Conv2D(64, kernel_size=(2, 2), strides=(1,1), padding=\"valid\",activation=\"relu\"))\n",
        "model.add(Dropout(0.5))\n",
        "model.add(Flatten())\n",
        "\n",
        "model.add(Dense(2, activation=\"softmax\"))\n"
      ]
    },
    {
      "cell_type": "code",
      "execution_count": 53,
      "id": "6fc84b29",
      "metadata": {
        "colab": {
          "base_uri": "https://localhost:8080/"
        },
        "id": "6fc84b29",
        "outputId": "1242c7c7-815b-454b-aa71-76d33c7fc827"
      },
      "outputs": [
        {
          "output_type": "stream",
          "name": "stdout",
          "text": [
            "Model: \"sequential\"\n",
            "_________________________________________________________________\n",
            " Layer (type)                Output Shape              Param #   \n",
            "=================================================================\n",
            " conv2d (Conv2D)             (None, 220, 220, 8)       608       \n",
            "                                                                 \n",
            " max_pooling2d (MaxPooling2D  (None, 55, 55, 8)        0         \n",
            " )                                                               \n",
            "                                                                 \n",
            " conv2d_1 (Conv2D)           (None, 53, 53, 16)        1168      \n",
            "                                                                 \n",
            " dropout (Dropout)           (None, 53, 53, 16)        0         \n",
            "                                                                 \n",
            " conv2d_2 (Conv2D)           (None, 52, 52, 32)        2080      \n",
            "                                                                 \n",
            " max_pooling2d_1 (MaxPooling  (None, 26, 26, 32)       0         \n",
            " 2D)                                                             \n",
            "                                                                 \n",
            " conv2d_3 (Conv2D)           (None, 25, 25, 64)        8256      \n",
            "                                                                 \n",
            " dropout_1 (Dropout)         (None, 25, 25, 64)        0         \n",
            "                                                                 \n",
            " flatten (Flatten)           (None, 40000)             0         \n",
            "                                                                 \n",
            " dense (Dense)               (None, 2)                 80002     \n",
            "                                                                 \n",
            "=================================================================\n",
            "Total params: 92,114\n",
            "Trainable params: 92,114\n",
            "Non-trainable params: 0\n",
            "_________________________________________________________________\n"
          ]
        }
      ],
      "source": [
        "model.summary()\n"
      ]
    },
    {
      "cell_type": "code",
      "execution_count": 54,
      "id": "a5c7864d",
      "metadata": {
        "id": "a5c7864d"
      },
      "outputs": [],
      "source": [
        "from keras.preprocessing import image\n",
        "\n",
        "train = image.ImageDataGenerator(rescale=1/255,\n",
        "                                fill_mode=\"nearest\")\n"
      ]
    },
    {
      "cell_type": "code",
      "execution_count": 55,
      "id": "2dbbdbbb",
      "metadata": {
        "id": "2dbbdbbb"
      },
      "outputs": [],
      "source": [
        "batch_size = 8\n",
        "epochs = 30\n"
      ]
    },
    {
      "cell_type": "code",
      "execution_count": 56,
      "id": "b089c3d2",
      "metadata": {
        "colab": {
          "base_uri": "https://localhost:8080/"
        },
        "id": "b089c3d2",
        "outputId": "861618e6-3247-4740-f6c6-bb65587d4a89"
      },
      "outputs": [
        {
          "output_type": "stream",
          "name": "stderr",
          "text": [
            "/usr/local/lib/python3.7/dist-packages/keras/optimizer_v2/adam.py:105: UserWarning: The `lr` argument is deprecated, use `learning_rate` instead.\n",
            "  super(Adam, self).__init__(name, **kwargs)\n"
          ]
        }
      ],
      "source": [
        "optimizer = Adam(lr = 0.001, decay=0.001/epochs)\n"
      ]
    },
    {
      "cell_type": "code",
      "execution_count": 57,
      "id": "a3c7991d",
      "metadata": {
        "id": "a3c7991d"
      },
      "outputs": [],
      "source": [
        "model.compile(loss=\"binary_crossentropy\", \n",
        "             optimizer=optimizer, metrics=['accuracy'])\n"
      ]
    },
    {
      "cell_type": "code",
      "execution_count": 58,
      "id": "67873c85",
      "metadata": {
        "colab": {
          "base_uri": "https://localhost:8080/"
        },
        "id": "67873c85",
        "outputId": "0b30e512-0e90-4cf5-956e-093ccdc56545"
      },
      "outputs": [
        {
          "output_type": "stream",
          "name": "stdout",
          "text": [
            "Epoch 1/30\n",
            "1/1 [==============================] - 1s 1s/step - loss: nan - accuracy: 0.6250\n",
            "Epoch 2/30\n",
            "1/1 [==============================] - 0s 305ms/step - loss: nan - accuracy: 1.0000\n",
            "Epoch 3/30\n",
            "1/1 [==============================] - 0s 317ms/step - loss: nan - accuracy: 0.8750\n",
            "Epoch 4/30\n",
            "1/1 [==============================] - 0s 203ms/step - loss: nan - accuracy: 1.0000\n",
            "Epoch 5/30\n",
            "1/1 [==============================] - 0s 294ms/step - loss: nan - accuracy: 0.8750\n",
            "Epoch 6/30\n",
            "1/1 [==============================] - 0s 177ms/step - loss: nan - accuracy: 0.7500\n",
            "Epoch 7/30\n",
            "1/1 [==============================] - 0s 187ms/step - loss: nan - accuracy: 1.0000\n",
            "Epoch 8/30\n",
            "1/1 [==============================] - 0s 295ms/step - loss: nan - accuracy: 0.8750\n",
            "Epoch 9/30\n",
            "1/1 [==============================] - 0s 175ms/step - loss: nan - accuracy: 1.0000\n",
            "Epoch 10/30\n",
            "1/1 [==============================] - 0s 293ms/step - loss: nan - accuracy: 1.0000\n",
            "Epoch 11/30\n",
            "1/1 [==============================] - 0s 294ms/step - loss: nan - accuracy: 1.0000\n",
            "Epoch 12/30\n",
            "1/1 [==============================] - 0s 178ms/step - loss: nan - accuracy: 1.0000\n",
            "Epoch 13/30\n",
            "1/1 [==============================] - 0s 182ms/step - loss: nan - accuracy: 1.0000\n",
            "Epoch 14/30\n",
            "1/1 [==============================] - 0s 290ms/step - loss: nan - accuracy: 0.8750\n",
            "Epoch 15/30\n",
            "1/1 [==============================] - 0s 188ms/step - loss: nan - accuracy: 1.0000\n",
            "Epoch 16/30\n",
            "1/1 [==============================] - 0s 175ms/step - loss: nan - accuracy: 0.7500\n",
            "Epoch 17/30\n",
            "1/1 [==============================] - 0s 311ms/step - loss: nan - accuracy: 0.8750\n",
            "Epoch 18/30\n",
            "1/1 [==============================] - 0s 286ms/step - loss: nan - accuracy: 1.0000\n",
            "Epoch 19/30\n",
            "1/1 [==============================] - 0s 290ms/step - loss: nan - accuracy: 0.8750\n",
            "Epoch 20/30\n",
            "1/1 [==============================] - 0s 191ms/step - loss: nan - accuracy: 1.0000\n",
            "Epoch 21/30\n",
            "1/1 [==============================] - 0s 176ms/step - loss: nan - accuracy: 1.0000\n",
            "Epoch 22/30\n",
            "1/1 [==============================] - 0s 283ms/step - loss: nan - accuracy: 0.8750\n",
            "Epoch 23/30\n",
            "1/1 [==============================] - 0s 179ms/step - loss: nan - accuracy: 1.0000\n",
            "Epoch 24/30\n",
            "1/1 [==============================] - 0s 293ms/step - loss: nan - accuracy: 0.8750\n",
            "Epoch 25/30\n",
            "1/1 [==============================] - 0s 287ms/step - loss: nan - accuracy: 0.8750\n",
            "Epoch 26/30\n",
            "1/1 [==============================] - 0s 177ms/step - loss: nan - accuracy: 1.0000\n",
            "Epoch 27/30\n",
            "1/1 [==============================] - 0s 301ms/step - loss: nan - accuracy: 1.0000\n",
            "Epoch 28/30\n",
            "1/1 [==============================] - 0s 296ms/step - loss: nan - accuracy: 1.0000\n",
            "Epoch 29/30\n",
            "1/1 [==============================] - 0s 176ms/step - loss: nan - accuracy: 0.7500\n",
            "Epoch 30/30\n",
            "1/1 [==============================] - 0s 297ms/step - loss: nan - accuracy: 0.8750\n"
          ]
        }
      ],
      "source": [
        "history = model.fit(train.flow(X_train, y_train, batch_size=batch_size), epochs =epochs,steps_per_epoch=len(X_train)//batch_size,\n",
        "                   validation_data=train.flow(X_val, y_val), validation_steps=len(X_val)//batch_size)\n"
      ]
    },
    {
      "cell_type": "code",
      "execution_count": 67,
      "id": "f1b5d242",
      "metadata": {
        "colab": {
          "base_uri": "https://localhost:8080/"
        },
        "id": "f1b5d242",
        "outputId": "30e25b35-c8c4-4b27-a6e8-db4f03c2c065"
      },
      "outputs": [
        {
          "output_type": "stream",
          "name": "stdout",
          "text": [
            "1/1 [==============================] - 0s 44ms/step - loss: nan - accuracy: 1.0000\n"
          ]
        },
        {
          "output_type": "execute_result",
          "data": {
            "text/plain": [
              "[nan, 1.0]"
            ]
          },
          "metadata": {},
          "execution_count": 67
        }
      ],
      "source": [
        "# model.add(Flatten())\n",
        "# model.add(GlobalAveragePooling2D())\n",
        "model.evaluate(x=X_test, y=y_test)\n"
      ]
    },
    {
      "cell_type": "code",
      "execution_count": 68,
      "id": "b0b8af7c",
      "metadata": {
        "id": "b0b8af7c"
      },
      "outputs": [],
      "source": [
        "y_pred = model.predict(X_test)\n"
      ]
    },
    {
      "cell_type": "code",
      "execution_count": 69,
      "id": "6e31a828",
      "metadata": {
        "id": "6e31a828"
      },
      "outputs": [],
      "source": [
        "y_pred = np.argmax(y_pred, axis=1)"
      ]
    },
    {
      "cell_type": "code",
      "execution_count": 70,
      "id": "a8ee61c5",
      "metadata": {
        "id": "a8ee61c5"
      },
      "outputs": [],
      "source": [
        "y_test = np.argmax(y_test, axis=1)\n"
      ]
    },
    {
      "cell_type": "code",
      "execution_count": 71,
      "id": "36a09b6b",
      "metadata": {
        "id": "36a09b6b"
      },
      "outputs": [],
      "source": [
        "from sklearn.metrics import confusion_matrix"
      ]
    },
    {
      "cell_type": "code",
      "execution_count": 72,
      "id": "25bdb6c7",
      "metadata": {
        "id": "25bdb6c7"
      },
      "outputs": [],
      "source": [
        "cm = confusion_matrix(y_pred, y_test)"
      ]
    },
    {
      "cell_type": "code",
      "execution_count": 77,
      "id": "7a3ed6f2",
      "metadata": {
        "colab": {
          "base_uri": "https://localhost:8080/",
          "height": 240
        },
        "id": "7a3ed6f2",
        "outputId": "fec9ea1d-a83e-424d-989f-7fae76eab34e"
      },
      "outputs": [
        {
          "output_type": "error",
          "ename": "IndexError",
          "evalue": "ignored",
          "traceback": [
            "\u001b[0;31m---------------------------------------------------------------------------\u001b[0m",
            "\u001b[0;31mIndexError\u001b[0m                                Traceback (most recent call last)",
            "\u001b[0;32m<ipython-input-77-4d53a7942a63>\u001b[0m in \u001b[0;36m<module>\u001b[0;34m()\u001b[0m\n\u001b[1;32m      1\u001b[0m \u001b[0mtotal\u001b[0m \u001b[0;34m=\u001b[0m \u001b[0msum\u001b[0m\u001b[0;34m(\u001b[0m\u001b[0msum\u001b[0m\u001b[0;34m(\u001b[0m\u001b[0mcm\u001b[0m\u001b[0;34m)\u001b[0m\u001b[0;34m)\u001b[0m\u001b[0;34m\u001b[0m\u001b[0;34m\u001b[0m\u001b[0m\n\u001b[0;32m----> 2\u001b[0;31m \u001b[0macc\u001b[0m \u001b[0;34m=\u001b[0m \u001b[0;34m(\u001b[0m\u001b[0mcm\u001b[0m\u001b[0;34m[\u001b[0m\u001b[0;36m0\u001b[0m\u001b[0;34m,\u001b[0m \u001b[0;36m0\u001b[0m\u001b[0;34m]\u001b[0m \u001b[0;34m+\u001b[0m \u001b[0mcm\u001b[0m\u001b[0;34m[\u001b[0m\u001b[0;36m1\u001b[0m\u001b[0;34m,\u001b[0m \u001b[0;36m1\u001b[0m\u001b[0;34m]\u001b[0m\u001b[0;34m)\u001b[0m \u001b[0;34m/\u001b[0m \u001b[0mtotal\u001b[0m\u001b[0;34m\u001b[0m\u001b[0;34m\u001b[0m\u001b[0m\n\u001b[0m\u001b[1;32m      3\u001b[0m \u001b[0msensitivity\u001b[0m \u001b[0;34m=\u001b[0m \u001b[0mcm\u001b[0m\u001b[0;34m[\u001b[0m\u001b[0;36m0\u001b[0m\u001b[0;34m,\u001b[0m \u001b[0;36m0\u001b[0m\u001b[0;34m]\u001b[0m \u001b[0;34m/\u001b[0m \u001b[0;34m(\u001b[0m\u001b[0mcm\u001b[0m\u001b[0;34m[\u001b[0m\u001b[0;36m0\u001b[0m\u001b[0;34m,\u001b[0m \u001b[0;36m0\u001b[0m\u001b[0;34m]\u001b[0m \u001b[0;34m+\u001b[0m \u001b[0mcm\u001b[0m\u001b[0;34m[\u001b[0m\u001b[0;36m0\u001b[0m\u001b[0;34m,\u001b[0m \u001b[0;36m1\u001b[0m\u001b[0;34m]\u001b[0m\u001b[0;34m)\u001b[0m\u001b[0;34m\u001b[0m\u001b[0;34m\u001b[0m\u001b[0m\n\u001b[1;32m      4\u001b[0m \u001b[0mspecificity\u001b[0m \u001b[0;34m=\u001b[0m \u001b[0mcm\u001b[0m\u001b[0;34m[\u001b[0m\u001b[0;36m1\u001b[0m\u001b[0;34m,\u001b[0m \u001b[0;36m1\u001b[0m\u001b[0;34m]\u001b[0m \u001b[0;34m/\u001b[0m \u001b[0;34m(\u001b[0m\u001b[0mcm\u001b[0m\u001b[0;34m[\u001b[0m\u001b[0;36m1\u001b[0m\u001b[0;34m,\u001b[0m \u001b[0;36m0\u001b[0m\u001b[0;34m]\u001b[0m \u001b[0;34m+\u001b[0m \u001b[0mcm\u001b[0m\u001b[0;34m[\u001b[0m\u001b[0;36m1\u001b[0m\u001b[0;34m,\u001b[0m \u001b[0;36m1\u001b[0m\u001b[0;34m]\u001b[0m\u001b[0;34m)\u001b[0m\u001b[0;34m\u001b[0m\u001b[0;34m\u001b[0m\u001b[0m\n\u001b[1;32m      5\u001b[0m \u001b[0;31m# show the confusion matrix, accuracy, sensitivity, and specificity\u001b[0m\u001b[0;34m\u001b[0m\u001b[0;34m\u001b[0m\u001b[0;34m\u001b[0m\u001b[0m\n",
            "\u001b[0;31mIndexError\u001b[0m: index 1 is out of bounds for axis 0 with size 1"
          ]
        }
      ],
      "source": [
        "total = sum(sum(cm))\n",
        "acc = (cm[0, 0] + cm[1, 1]) / total\n",
        "sensitivity = cm[0, 0] / (cm[0, 0] + cm[0, 1])\n",
        "specificity = cm[1, 1] / (cm[1, 0] + cm[1, 1])\n",
        "# show the confusion matrix, accuracy, sensitivity, and specificity\n",
        "print(cm)\n",
        "print(\"acc: {:.4f}\".format(acc))\n",
        "print(\"sensitivity: {:.4f}\".format(sensitivity))\n",
        "print(\"specificity: {:.4f}\".format(specificity))"
      ]
    },
    {
      "cell_type": "code",
      "execution_count": 79,
      "id": "9c3cd4f8",
      "metadata": {
        "colab": {
          "base_uri": "https://localhost:8080/"
        },
        "id": "9c3cd4f8",
        "outputId": "01ff36f3-77fe-4131-c322-1d2b974b1bd0"
      },
      "outputs": [
        {
          "output_type": "stream",
          "name": "stdout",
          "text": [
            "['covid', 'covid']\n"
          ]
        }
      ],
      "source": [
        "y_pred_cat = []\n",
        "y_test_cat = []\n",
        "\n",
        "def cat(array, predit):\n",
        "    for i in range(len(array)):\n",
        "        if array[i] == 0:\n",
        "            predit.append(\"covid\")\n",
        "        else:\n",
        "            predit.append(\"normal\")\n",
        "cat(y_pred, y_pred_cat)\n",
        "cat(y_test, y_test_cat)\n",
        "\n",
        "print(y_pred_cat)\n"
      ]
    },
    {
      "cell_type": "code",
      "execution_count": 84,
      "id": "e515dece",
      "metadata": {
        "colab": {
          "base_uri": "https://localhost:8080/",
          "height": 1000
        },
        "id": "e515dece",
        "outputId": "7d32c8e6-73e7-486e-f95c-0d44522eb008"
      },
      "outputs": [
        {
          "output_type": "stream",
          "name": "stderr",
          "text": [
            "Clipping input data to the valid range for imshow with RGB data ([0..1] for floats or [0..255] for integers).\n",
            "Clipping input data to the valid range for imshow with RGB data ([0..1] for floats or [0..255] for integers).\n"
          ]
        },
        {
          "output_type": "error",
          "ename": "IndexError",
          "evalue": "ignored",
          "traceback": [
            "\u001b[0;31m---------------------------------------------------------------------------\u001b[0m",
            "\u001b[0;31mIndexError\u001b[0m                                Traceback (most recent call last)",
            "\u001b[0;32m<ipython-input-84-f1f3f5d345aa>\u001b[0m in \u001b[0;36m<module>\u001b[0;34m()\u001b[0m\n\u001b[1;32m      5\u001b[0m \u001b[0max2\u001b[0m\u001b[0;34m.\u001b[0m\u001b[0mimshow\u001b[0m\u001b[0;34m(\u001b[0m\u001b[0mX_test\u001b[0m\u001b[0;34m[\u001b[0m\u001b[0;36m1\u001b[0m\u001b[0;34m]\u001b[0m\u001b[0;34m)\u001b[0m\u001b[0;34m\u001b[0m\u001b[0;34m\u001b[0m\u001b[0m\n\u001b[1;32m      6\u001b[0m \u001b[0max2\u001b[0m\u001b[0;34m.\u001b[0m\u001b[0mtitle\u001b[0m\u001b[0;34m.\u001b[0m\u001b[0mset_text\u001b[0m\u001b[0;34m(\u001b[0m\u001b[0;34m\"predicted- \"\u001b[0m\u001b[0;34m+\u001b[0m\u001b[0my_pred_cat\u001b[0m\u001b[0;34m[\u001b[0m\u001b[0;36m1\u001b[0m\u001b[0;34m]\u001b[0m\u001b[0;34m+\u001b[0m\u001b[0;34m\" Original:-\"\u001b[0m\u001b[0;34m+\u001b[0m\u001b[0my_test_cat\u001b[0m\u001b[0;34m[\u001b[0m\u001b[0;36m1\u001b[0m\u001b[0;34m]\u001b[0m\u001b[0;34m)\u001b[0m\u001b[0;34m\u001b[0m\u001b[0;34m\u001b[0m\u001b[0m\n\u001b[0;32m----> 7\u001b[0;31m \u001b[0max3\u001b[0m\u001b[0;34m.\u001b[0m\u001b[0mimshow\u001b[0m\u001b[0;34m(\u001b[0m\u001b[0mX_test\u001b[0m\u001b[0;34m[\u001b[0m\u001b[0;36m2\u001b[0m\u001b[0;34m]\u001b[0m\u001b[0;34m)\u001b[0m\u001b[0;34m\u001b[0m\u001b[0;34m\u001b[0m\u001b[0m\n\u001b[0m\u001b[1;32m      8\u001b[0m \u001b[0max3\u001b[0m\u001b[0;34m.\u001b[0m\u001b[0mtitle\u001b[0m\u001b[0;34m.\u001b[0m\u001b[0mset_text\u001b[0m\u001b[0;34m(\u001b[0m\u001b[0;34m\"predicted- \"\u001b[0m\u001b[0;34m+\u001b[0m\u001b[0my_pred_cat\u001b[0m\u001b[0;34m[\u001b[0m\u001b[0;36m2\u001b[0m\u001b[0;34m]\u001b[0m\u001b[0;34m+\u001b[0m\u001b[0;34m\" Original:-\"\u001b[0m\u001b[0;34m+\u001b[0m\u001b[0my_test_cat\u001b[0m\u001b[0;34m[\u001b[0m\u001b[0;36m2\u001b[0m\u001b[0;34m]\u001b[0m\u001b[0;34m)\u001b[0m\u001b[0;34m\u001b[0m\u001b[0;34m\u001b[0m\u001b[0m\n\u001b[1;32m      9\u001b[0m \u001b[0max4\u001b[0m\u001b[0;34m.\u001b[0m\u001b[0mimshow\u001b[0m\u001b[0;34m(\u001b[0m\u001b[0mX_test\u001b[0m\u001b[0;34m[\u001b[0m\u001b[0;36m3\u001b[0m\u001b[0;34m]\u001b[0m\u001b[0;34m)\u001b[0m\u001b[0;34m\u001b[0m\u001b[0;34m\u001b[0m\u001b[0m\n",
            "\u001b[0;31mIndexError\u001b[0m: index 2 is out of bounds for axis 0 with size 2"
          ]
        },
        {
          "output_type": "display_data",
          "data": {
            "text/plain": [
              "<Figure size 1152x1152 with 6 Axes>"
            ],
            "image/png": "[encoded data removed]"
          },
          "metadata": {
            "needs_background": "light"
          }
        }
      ],
      "source": [
        "fig, ((ax1, ax2, ax3), (ax4,ax5, ax6)) = plt.subplots(2,3, figsize=(16, 16))\n",
        "\n",
        "ax1.imshow(X_test[0])\n",
        "ax1.title.set_text(\"predicted- \"+y_pred_cat[0]+\" Original:-\"+y_test_cat[0])\n",
        "ax2.imshow(X_test[1])\n",
        "ax2.title.set_text(\"predicted- \"+y_pred_cat[1]+\" Original:-\"+y_test_cat[1])\n",
        "ax3.imshow(X_test[2])\n",
        "ax3.title.set_text(\"predicted- \"+y_pred_cat[2]+\" Original:-\"+y_test_cat[2])\n",
        "ax4.imshow(X_test[3])\n",
        "ax4.title.set_text(\"predicted- \"+y_pred_cat[3]+\" Original:-\"+y_test_cat[3])\n",
        "ax5.imshow(X_test[4])\n",
        "ax5.title.set_text(\"predicted- \"+y_pred_cat[4]+\" Original:-\"+y_test_cat[4])\n",
        "ax6.imshow(X_test[5])\n",
        "ax6.title.set_text(\"predicted- \"+y_pred_cat[5]+\" Original:-\"+y_test_cat[5])"
      ]
    },
    {
      "cell_type": "code",
      "execution_count": 85,
      "id": "207f46bb",
      "metadata": {
        "id": "207f46bb"
      },
      "outputs": [],
      "source": [
        "fig.savefig(\"predicted.png\")\n"
      ]
    },
    {
      "cell_type": "code",
      "execution_count": null,
      "id": "1a9f07fa",
      "metadata": {
        "id": "1a9f07fa"
      },
      "outputs": [],
      "source": [
        ""
      ]
    }
  ],
  "metadata": {
    "kernelspec": {
      "display_name": "Python 3 (ipykernel)",
      "language": "python",
      "name": "python3"
    },
    "language_info": {
      "codemirror_mode": {
        "name": "ipython",
        "version": 3
      },
      "file_extension": ".py",
      "mimetype": "text/x-python",
      "name": "python",
      "nbconvert_exporter": "python",
      "pygments_lexer": "ipython3",
      "version": "3.9.7"
    },
    "colab": {
      "name": "corona_lungs.ipynb",
      "provenance": [],
      "collapsed_sections": []
    }
  },
  "nbformat": 4,
  "nbformat_minor": 5
}