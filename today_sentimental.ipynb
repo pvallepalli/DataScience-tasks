{
 "cells": [
  {
   "cell_type": "code",
   "execution_count": 1,
   "id": "1cfb5e60",
   "metadata": {},
   "outputs": [],
   "source": [
    "import numpy as np # linear algebra\n",
    "import pandas as pd # data processing\n",
    "\n",
    "df = pd.read_csv(\"FinancialData.csv\", encoding=\"latin-1\")\n"
   ]
  },
  {
   "cell_type": "code",
   "execution_count": 2,
   "id": "01bf2557",
   "metadata": {},
   "outputs": [
    {
     "data": {
      "text/html": [
       "<div>\n",
       "<style scoped>\n",
       "    .dataframe tbody tr th:only-of-type {\n",
       "        vertical-align: middle;\n",
       "    }\n",
       "\n",
       "    .dataframe tbody tr th {\n",
       "        vertical-align: top;\n",
       "    }\n",
       "\n",
       "    .dataframe thead th {\n",
       "        text-align: right;\n",
       "    }\n",
       "</style>\n",
       "<table border=\"1\" class=\"dataframe\">\n",
       "  <thead>\n",
       "    <tr style=\"text-align: right;\">\n",
       "      <th></th>\n",
       "      <th>neutral</th>\n",
       "      <th>According to Gran , the company has no plans to move all production to Russia , although that is where the company is growing .</th>\n",
       "    </tr>\n",
       "  </thead>\n",
       "  <tbody>\n",
       "    <tr>\n",
       "      <th>0</th>\n",
       "      <td>neutral</td>\n",
       "      <td>Technopolis plans to develop in stages an area...</td>\n",
       "    </tr>\n",
       "    <tr>\n",
       "      <th>1</th>\n",
       "      <td>negative</td>\n",
       "      <td>The international electronic industry company ...</td>\n",
       "    </tr>\n",
       "    <tr>\n",
       "      <th>2</th>\n",
       "      <td>positive</td>\n",
       "      <td>With the new production plant the company woul...</td>\n",
       "    </tr>\n",
       "    <tr>\n",
       "      <th>3</th>\n",
       "      <td>positive</td>\n",
       "      <td>According to the company 's updated strategy f...</td>\n",
       "    </tr>\n",
       "    <tr>\n",
       "      <th>4</th>\n",
       "      <td>positive</td>\n",
       "      <td>FINANCING OF ASPOCOMP 'S GROWTH Aspocomp is ag...</td>\n",
       "    </tr>\n",
       "  </tbody>\n",
       "</table>\n",
       "</div>"
      ],
      "text/plain": [
       "    neutral  \\\n",
       "0   neutral   \n",
       "1  negative   \n",
       "2  positive   \n",
       "3  positive   \n",
       "4  positive   \n",
       "\n",
       "  According to Gran , the company has no plans to move all production to Russia , although that is where the company is growing .  \n",
       "0  Technopolis plans to develop in stages an area...                                                                               \n",
       "1  The international electronic industry company ...                                                                               \n",
       "2  With the new production plant the company woul...                                                                               \n",
       "3  According to the company 's updated strategy f...                                                                               \n",
       "4  FINANCING OF ASPOCOMP 'S GROWTH Aspocomp is ag...                                                                               "
      ]
     },
     "execution_count": 2,
     "metadata": {},
     "output_type": "execute_result"
    }
   ],
   "source": [
    "df.head()"
   ]
  },
  {
   "cell_type": "code",
   "execution_count": 3,
   "id": "50cf4fee",
   "metadata": {},
   "outputs": [
    {
     "data": {
      "text/plain": [
       "'neutral'"
      ]
     },
     "execution_count": 3,
     "metadata": {},
     "output_type": "execute_result"
    }
   ],
   "source": [
    "df.keys()[0]"
   ]
  },
  {
   "cell_type": "code",
   "execution_count": 4,
   "id": "95f5b080",
   "metadata": {},
   "outputs": [
    {
     "data": {
      "text/plain": [
       "'According to Gran , the company has no plans to move all production to Russia , although that is where the company is growing .'"
      ]
     },
     "execution_count": 4,
     "metadata": {},
     "output_type": "execute_result"
    }
   ],
   "source": [
    "df.keys()[1]"
   ]
  },
  {
   "cell_type": "code",
   "execution_count": 5,
   "id": "e3169c5e",
   "metadata": {},
   "outputs": [
    {
     "data": {
      "text/plain": [
       "(4845, 2)"
      ]
     },
     "execution_count": 5,
     "metadata": {},
     "output_type": "execute_result"
    }
   ],
   "source": [
    "df.shape\n"
   ]
  },
  {
   "cell_type": "code",
   "execution_count": 6,
   "id": "dfb2eae8",
   "metadata": {},
   "outputs": [],
   "source": [
    "df2=pd.DataFrame([[df.keys()[0], df.keys()[1]]], columns=list([df.keys()[0], df.keys()[1]]), index=[4845])"
   ]
  },
  {
   "cell_type": "code",
   "execution_count": 7,
   "id": "cafaecaa",
   "metadata": {},
   "outputs": [
    {
     "data": {
      "text/html": [
       "<div>\n",
       "<style scoped>\n",
       "    .dataframe tbody tr th:only-of-type {\n",
       "        vertical-align: middle;\n",
       "    }\n",
       "\n",
       "    .dataframe tbody tr th {\n",
       "        vertical-align: top;\n",
       "    }\n",
       "\n",
       "    .dataframe thead th {\n",
       "        text-align: right;\n",
       "    }\n",
       "</style>\n",
       "<table border=\"1\" class=\"dataframe\">\n",
       "  <thead>\n",
       "    <tr style=\"text-align: right;\">\n",
       "      <th></th>\n",
       "      <th>neutral</th>\n",
       "      <th>According to Gran , the company has no plans to move all production to Russia , although that is where the company is growing .</th>\n",
       "    </tr>\n",
       "  </thead>\n",
       "  <tbody>\n",
       "    <tr>\n",
       "      <th>4845</th>\n",
       "      <td>neutral</td>\n",
       "      <td>According to Gran , the company has no plans t...</td>\n",
       "    </tr>\n",
       "  </tbody>\n",
       "</table>\n",
       "</div>"
      ],
      "text/plain": [
       "      neutral  \\\n",
       "4845  neutral   \n",
       "\n",
       "     According to Gran , the company has no plans to move all production to Russia , although that is where the company is growing .  \n",
       "4845  According to Gran , the company has no plans t...                                                                               "
      ]
     },
     "execution_count": 7,
     "metadata": {},
     "output_type": "execute_result"
    }
   ],
   "source": [
    "df2.head()\n"
   ]
  },
  {
   "cell_type": "code",
   "execution_count": 10,
   "id": "b3f56848",
   "metadata": {},
   "outputs": [],
   "source": [
    "df3=df.append(df2).set_axis(['sentiment', 'comment'], axis=1)\n"
   ]
  },
  {
   "cell_type": "code",
   "execution_count": 11,
   "id": "48e4488d",
   "metadata": {},
   "outputs": [
    {
     "data": {
      "text/html": [
       "<div>\n",
       "<style scoped>\n",
       "    .dataframe tbody tr th:only-of-type {\n",
       "        vertical-align: middle;\n",
       "    }\n",
       "\n",
       "    .dataframe tbody tr th {\n",
       "        vertical-align: top;\n",
       "    }\n",
       "\n",
       "    .dataframe thead th {\n",
       "        text-align: right;\n",
       "    }\n",
       "</style>\n",
       "<table border=\"1\" class=\"dataframe\">\n",
       "  <thead>\n",
       "    <tr style=\"text-align: right;\">\n",
       "      <th></th>\n",
       "      <th>sentiment</th>\n",
       "      <th>comment</th>\n",
       "    </tr>\n",
       "  </thead>\n",
       "  <tbody>\n",
       "    <tr>\n",
       "      <th>0</th>\n",
       "      <td>neutral</td>\n",
       "      <td>Technopolis plans to develop in stages an area...</td>\n",
       "    </tr>\n",
       "    <tr>\n",
       "      <th>1</th>\n",
       "      <td>negative</td>\n",
       "      <td>The international electronic industry company ...</td>\n",
       "    </tr>\n",
       "    <tr>\n",
       "      <th>2</th>\n",
       "      <td>positive</td>\n",
       "      <td>With the new production plant the company woul...</td>\n",
       "    </tr>\n",
       "    <tr>\n",
       "      <th>3</th>\n",
       "      <td>positive</td>\n",
       "      <td>According to the company 's updated strategy f...</td>\n",
       "    </tr>\n",
       "    <tr>\n",
       "      <th>4</th>\n",
       "      <td>positive</td>\n",
       "      <td>FINANCING OF ASPOCOMP 'S GROWTH Aspocomp is ag...</td>\n",
       "    </tr>\n",
       "  </tbody>\n",
       "</table>\n",
       "</div>"
      ],
      "text/plain": [
       "  sentiment                                            comment\n",
       "0   neutral  Technopolis plans to develop in stages an area...\n",
       "1  negative  The international electronic industry company ...\n",
       "2  positive  With the new production plant the company woul...\n",
       "3  positive  According to the company 's updated strategy f...\n",
       "4  positive  FINANCING OF ASPOCOMP 'S GROWTH Aspocomp is ag..."
      ]
     },
     "execution_count": 11,
     "metadata": {},
     "output_type": "execute_result"
    }
   ],
   "source": [
    "df3.head()\n"
   ]
  },
  {
   "cell_type": "code",
   "execution_count": 12,
   "id": "ed45b530",
   "metadata": {},
   "outputs": [
    {
     "data": {
      "text/plain": [
       "sentiment    0\n",
       "comment      0\n",
       "dtype: int64"
      ]
     },
     "execution_count": 12,
     "metadata": {},
     "output_type": "execute_result"
    }
   ],
   "source": [
    "df3.isna().sum()\n"
   ]
  },
  {
   "cell_type": "code",
   "execution_count": 13,
   "id": "8d17b4ee",
   "metadata": {},
   "outputs": [
    {
     "data": {
      "text/plain": [
       "sentiment    object\n",
       "comment      object\n",
       "dtype: object"
      ]
     },
     "execution_count": 13,
     "metadata": {},
     "output_type": "execute_result"
    }
   ],
   "source": [
    "df3.dtypes\n"
   ]
  },
  {
   "cell_type": "code",
   "execution_count": 21,
   "id": "3774e57d",
   "metadata": {},
   "outputs": [
    {
     "data": {
      "text/plain": [
       "neutral     2879\n",
       "positive    1363\n",
       "negative     604\n",
       "Name: sentiment, dtype: int64"
      ]
     },
     "execution_count": 21,
     "metadata": {},
     "output_type": "execute_result"
    }
   ],
   "source": [
    "df3[\"sentiment\"].value_counts()"
   ]
  },
  {
   "cell_type": "code",
   "execution_count": 22,
   "id": "234c292e",
   "metadata": {},
   "outputs": [],
   "source": [
    "import seaborn as sns\n",
    "import matplotlib.pyplot as plt\n",
    "sns.set_style(\"darkgrid\")\n"
   ]
  },
  {
   "cell_type": "code",
   "execution_count": 23,
   "id": "4c8415e4",
   "metadata": {},
   "outputs": [
    {
     "name": "stderr",
     "output_type": "stream",
     "text": [
      "/Users/pradeepvallepalli/opt/anaconda3/lib/python3.9/site-packages/seaborn/_decorators.py:36: FutureWarning: Pass the following variable as a keyword arg: x. From version 0.12, the only valid positional argument will be `data`, and passing other arguments without an explicit keyword will result in an error or misinterpretation.\n",
      "  warnings.warn(\n"
     ]
    },
    {
     "data": {
      "text/plain": [
       "<AxesSubplot:xlabel='sentiment', ylabel='count'>"
      ]
     },
     "execution_count": 23,
     "metadata": {},
     "output_type": "execute_result"
    },
    {
     "data": {
      "image/png": "[encoded data removed]",
      "text/plain": [
       "<Figure size 432x288 with 1 Axes>"
      ]
     },
     "metadata": {},
     "output_type": "display_data"
    }
   ],
   "source": [
    "sns.countplot(df3[\"sentiment\"])"
   ]
  },
  {
   "cell_type": "code",
   "execution_count": 25,
   "id": "dd8702ed",
   "metadata": {},
   "outputs": [],
   "source": [
    "df3['length']  = df3['comment'].str.len()"
   ]
  },
  {
   "cell_type": "code",
   "execution_count": 26,
   "id": "ade935e8",
   "metadata": {},
   "outputs": [
    {
     "data": {
      "text/html": [
       "<div>\n",
       "<style scoped>\n",
       "    .dataframe tbody tr th:only-of-type {\n",
       "        vertical-align: middle;\n",
       "    }\n",
       "\n",
       "    .dataframe tbody tr th {\n",
       "        vertical-align: top;\n",
       "    }\n",
       "\n",
       "    .dataframe thead th {\n",
       "        text-align: right;\n",
       "    }\n",
       "</style>\n",
       "<table border=\"1\" class=\"dataframe\">\n",
       "  <thead>\n",
       "    <tr style=\"text-align: right;\">\n",
       "      <th></th>\n",
       "      <th>sentiment</th>\n",
       "      <th>comment</th>\n",
       "      <th>length</th>\n",
       "    </tr>\n",
       "  </thead>\n",
       "  <tbody>\n",
       "    <tr>\n",
       "      <th>0</th>\n",
       "      <td>neutral</td>\n",
       "      <td>Technopolis plans to develop in stages an area...</td>\n",
       "      <td>190</td>\n",
       "    </tr>\n",
       "    <tr>\n",
       "      <th>1</th>\n",
       "      <td>negative</td>\n",
       "      <td>The international electronic industry company ...</td>\n",
       "      <td>228</td>\n",
       "    </tr>\n",
       "    <tr>\n",
       "      <th>2</th>\n",
       "      <td>positive</td>\n",
       "      <td>With the new production plant the company woul...</td>\n",
       "      <td>206</td>\n",
       "    </tr>\n",
       "    <tr>\n",
       "      <th>3</th>\n",
       "      <td>positive</td>\n",
       "      <td>According to the company 's updated strategy f...</td>\n",
       "      <td>203</td>\n",
       "    </tr>\n",
       "    <tr>\n",
       "      <th>4</th>\n",
       "      <td>positive</td>\n",
       "      <td>FINANCING OF ASPOCOMP 'S GROWTH Aspocomp is ag...</td>\n",
       "      <td>178</td>\n",
       "    </tr>\n",
       "  </tbody>\n",
       "</table>\n",
       "</div>"
      ],
      "text/plain": [
       "  sentiment                                            comment  length\n",
       "0   neutral  Technopolis plans to develop in stages an area...     190\n",
       "1  negative  The international electronic industry company ...     228\n",
       "2  positive  With the new production plant the company woul...     206\n",
       "3  positive  According to the company 's updated strategy f...     203\n",
       "4  positive  FINANCING OF ASPOCOMP 'S GROWTH Aspocomp is ag...     178"
      ]
     },
     "execution_count": 26,
     "metadata": {},
     "output_type": "execute_result"
    }
   ],
   "source": [
    "df3.head()\n"
   ]
  },
  {
   "cell_type": "code",
   "execution_count": 27,
   "id": "c793197f",
   "metadata": {},
   "outputs": [
    {
     "data": {
      "image/png": "[encoded data removed]",
      "text/plain": [
       "<Figure size 864x360 with 3 Axes>"
      ]
     },
     "metadata": {},
     "output_type": "display_data"
    }
   ],
   "source": [
    "plt.figure(figsize=(12,5))\n",
    "\n",
    "plt.subplot(2,2,1)\n",
    "plt.hist(df3[df3[\"sentiment\"]==\"neutral\"]['length'], bins=50)\n",
    "plt.title(\"Neutral\")\n",
    "\n",
    "plt.subplot(2,2,2)\n",
    "plt.hist(df3[df3[\"sentiment\"]==\"negative\"]['length'], bins=50)\n",
    "plt.title(\"Negative\")\n",
    "\n",
    "plt.subplot(2,2,3)\n",
    "plt.hist(df3[df3[\"sentiment\"]==\"positive\"]['length'], bins=50)\n",
    "plt.title(\"Positive\")\n",
    "\n",
    "plt.tight_layout()\n",
    "\n",
    "plt.show()"
   ]
  },
  {
   "cell_type": "code",
   "execution_count": 28,
   "id": "db894bed",
   "metadata": {},
   "outputs": [],
   "source": [
    "import nltk\n",
    "import string\n",
    "from nltk.corpus import stopwords\n",
    "from sklearn.feature_extraction.text import CountVectorizer\n",
    "from sklearn.feature_extraction.text import TfidfTransformer\n",
    "from sklearn.naive_bayes import MultinomialNB\n",
    "from sklearn.linear_model import LogisticRegression\n",
    "from sklearn.ensemble import RandomForestClassifier\n",
    "from sklearn.neighbors import KNeighborsClassifier\n",
    "from sklearn.model_selection import train_test_split\n",
    "from sklearn.metrics import classification_report, confusion_matrix\n",
    "from sklearn.pipeline import Pipeline\n",
    "from warnings import simplefilter\n",
    "simplefilter(action='ignore', category=FutureWarning)"
   ]
  },
  {
   "cell_type": "code",
   "execution_count": 29,
   "id": "0b20d4cb",
   "metadata": {},
   "outputs": [],
   "source": [
    "def text_process(mess):\n",
    "\n",
    "    # Check characters to see if they are in punctuation\n",
    "    nopunc = [char for char in mess if char not in string.punctuation]\n",
    "\n",
    "    # Join the characters again to form the string.\n",
    "    nopunc = ''.join(nopunc)\n",
    "    \n",
    "    # remove stopwords\n",
    "    return [word for word in nopunc.split() if word.lower() not in stopwords.words('english')]\n"
   ]
  },
  {
   "cell_type": "code",
   "execution_count": 30,
   "id": "8bebb6b2",
   "metadata": {},
   "outputs": [
    {
     "data": {
      "text/plain": [
       "0    [Technopolis, plans, develop, stages, area, le...\n",
       "1    [international, electronic, industry, company,...\n",
       "2    [new, production, plant, company, would, incre...\n",
       "3    [According, company, updated, strategy, years,...\n",
       "4    [FINANCING, ASPOCOMP, GROWTH, Aspocomp, aggres...\n",
       "Name: comment, dtype: object"
      ]
     },
     "execution_count": 30,
     "metadata": {},
     "output_type": "execute_result"
    }
   ],
   "source": [
    "df3[\"comment\"].head().apply(text_process)"
   ]
  },
  {
   "cell_type": "code",
   "execution_count": 32,
   "id": "68308f05",
   "metadata": {},
   "outputs": [],
   "source": [
    "bagofwords_transformer = CountVectorizer(analyzer=text_process).fit(df3[\"comment\"])\n"
   ]
  },
  {
   "cell_type": "code",
   "execution_count": 33,
   "id": "1729efc0",
   "metadata": {},
   "outputs": [
    {
     "name": "stdout",
     "output_type": "stream",
     "text": [
      "12278\n"
     ]
    }
   ],
   "source": [
    "print(len(bagofwords_transformer.vocabulary_))"
   ]
  },
  {
   "cell_type": "code",
   "execution_count": 34,
   "id": "a3f93ed2",
   "metadata": {},
   "outputs": [],
   "source": [
    "df_bow = bagofwords_transformer.transform(df3['sentiment'])"
   ]
  },
  {
   "cell_type": "code",
   "execution_count": 35,
   "id": "d2af1ff9",
   "metadata": {},
   "outputs": [
    {
     "data": {
      "text/plain": [
       "<4846x12278 sparse matrix of type '<class 'numpy.int64'>'\n",
       "\twith 4846 stored elements in Compressed Sparse Row format>"
      ]
     },
     "execution_count": 35,
     "metadata": {},
     "output_type": "execute_result"
    }
   ],
   "source": [
    "df_bow"
   ]
  },
  {
   "cell_type": "code",
   "execution_count": 37,
   "id": "e8afd2f2",
   "metadata": {},
   "outputs": [
    {
     "name": "stdout",
     "output_type": "stream",
     "text": [
      "  (0, 1558)\t1\n",
      "  (0, 1771)\t1\n",
      "  (0, 2920)\t1\n",
      "  (0, 3112)\t1\n",
      "  (0, 3221)\t1\n",
      "  (0, 4636)\t1\n",
      "  (0, 6429)\t1\n",
      "  (0, 6832)\t1\n",
      "  (0, 7130)\t1\n",
      "  (0, 7641)\t1\n",
      "  (0, 8388)\t1\n",
      "  (0, 8615)\t1\n",
      "  (0, 8881)\t1\n",
      "  (0, 10306)\t1\n",
      "  (0, 10442)\t1\n",
      "  (0, 11398)\t1\n",
      "  (0, 11601)\t1\n",
      "(1, 12278)\n"
     ]
    }
   ],
   "source": [
    "message5 = df3['comment'][4]\n",
    "bow5 = bagofwords_transformer.transform([message5])\n",
    "print(bow5)\n",
    "print(bow5.shape)"
   ]
  },
  {
   "cell_type": "code",
   "execution_count": 38,
   "id": "8b00a7e1",
   "metadata": {},
   "outputs": [],
   "source": [
    "tfidf_transformer = TfidfTransformer().fit(df_bow)"
   ]
  },
  {
   "cell_type": "code",
   "execution_count": 39,
   "id": "375eff58",
   "metadata": {},
   "outputs": [
    {
     "name": "stdout",
     "output_type": "stream",
     "text": [
      "  (0, 11601)\t0.24253562503633297\n",
      "  (0, 11398)\t0.24253562503633297\n",
      "  (0, 10442)\t0.24253562503633297\n",
      "  (0, 10306)\t0.24253562503633297\n",
      "  (0, 8881)\t0.24253562503633297\n",
      "  (0, 8615)\t0.24253562503633297\n",
      "  (0, 8388)\t0.24253562503633297\n",
      "  (0, 7641)\t0.24253562503633297\n",
      "  (0, 7130)\t0.24253562503633297\n",
      "  (0, 6832)\t0.24253562503633297\n",
      "  (0, 6429)\t0.24253562503633297\n",
      "  (0, 4636)\t0.24253562503633297\n",
      "  (0, 3221)\t0.24253562503633297\n",
      "  (0, 3112)\t0.24253562503633297\n",
      "  (0, 2920)\t0.24253562503633297\n",
      "  (0, 1771)\t0.24253562503633297\n",
      "  (0, 1558)\t0.24253562503633297\n"
     ]
    }
   ],
   "source": [
    "tfidf5 = tfidf_transformer.transform(bow5)\n",
    "print(tfidf5)\n"
   ]
  },
  {
   "cell_type": "code",
   "execution_count": 40,
   "id": "3d589c17",
   "metadata": {},
   "outputs": [],
   "source": [
    "models = {\n",
    "    \"                   Logistic_Regression\": LogisticRegression(),\n",
    "    \"        K-Nearest Neighbors_Classifier\": KNeighborsClassifier(n_neighbors=9),\n",
    "    \"                Naive_Bayes_Classifier\": MultinomialNB(),\n",
    "    \"              Random_Forest_Classifier\": RandomForestClassifier()\n",
    "}"
   ]
  },
  {
   "cell_type": "code",
   "execution_count": 42,
   "id": "e022e80d",
   "metadata": {},
   "outputs": [],
   "source": [
    "pipelines={}\n",
    "\n",
    "X_train, X_test, y_train, y_test = train_test_split(df3['comment'], df3['sentiment'], test_size=0.3, random_state=101)\n"
   ]
  },
  {
   "cell_type": "code",
   "execution_count": 43,
   "id": "7288aeea",
   "metadata": {},
   "outputs": [],
   "source": [
    "def train(X_train, y_train):\n",
    "    for name, model in models.items():\n",
    "    \n",
    "        print(name+\"_pipeline created!\")\n",
    "        model_pipeline = Pipeline([\n",
    "        \n",
    "        ('bagofwords', CountVectorizer(analyzer=text_process)),  # strings to token integer counts\n",
    "        ('tfidf', TfidfTransformer()),  # integer counts to weighted TF-IDF scores\n",
    "        (name, model),# train on TF-IDF vectors w/ classifier\n",
    "        \n",
    "        ])\n",
    "    \n",
    "        model_pipeline.fit(X_train, y_train)\n",
    "        print(name+\"_pipeline trained!\")\n",
    "    \n",
    "        pipelines.update({name: model_pipeline})\n"
   ]
  },
  {
   "cell_type": "code",
   "execution_count": 44,
   "id": "b402642d",
   "metadata": {},
   "outputs": [],
   "source": [
    "def test(X_train, X_test, y_train, y_test):\n",
    "    \n",
    "    for name, model in pipelines.items():\n",
    "        print(name)\n",
    "        print(\"--------------------\"*3)\n",
    "        print(\"Testing Accuracy: {:.5f}\".format(model.score(X_test, y_test)))\n",
    "        print(\"Training Accuracy: {:.5f}\".format(model.score(X_train, y_train)))\n",
    "        print(\"--------------------\"*3)\n",
    "        print('\\n')    "
   ]
  },
  {
   "cell_type": "code",
   "execution_count": 45,
   "id": "664448f5",
   "metadata": {},
   "outputs": [],
   "source": [
    "def evalModel(name, model):\n",
    "    print(name)\n",
    "    print(\"\\nConfusion Matrix\")\n",
    "    predictions = model.predict(X_test)\n",
    "    print(confusion_matrix(y_test,predictions))\n",
    "    print(\"\\nClassifiation Report\")\n",
    "    print(classification_report(y_test,predictions))\n",
    "    print(\"===\"*40)"
   ]
  },
  {
   "cell_type": "code",
   "execution_count": 47,
   "id": "e37a2ec6",
   "metadata": {},
   "outputs": [],
   "source": [
    "pipelines={}\n",
    "\n",
    "X_train, X_test, y_train, y_test = train_test_split(df3['comment'], df3['sentiment'], test_size=0.3, random_state=101)\n"
   ]
  },
  {
   "cell_type": "code",
   "execution_count": 48,
   "id": "ff920516",
   "metadata": {},
   "outputs": [
    {
     "name": "stdout",
     "output_type": "stream",
     "text": [
      "                   Logistic_Regression_pipeline created!\n",
      "                   Logistic_Regression_pipeline trained!\n",
      "        K-Nearest Neighbors_Classifier_pipeline created!\n",
      "        K-Nearest Neighbors_Classifier_pipeline trained!\n",
      "                Naive_Bayes_Classifier_pipeline created!\n",
      "                Naive_Bayes_Classifier_pipeline trained!\n",
      "              Random_Forest_Classifier_pipeline created!\n",
      "              Random_Forest_Classifier_pipeline trained!\n"
     ]
    }
   ],
   "source": [
    "train(X_train, y_train)"
   ]
  },
  {
   "cell_type": "code",
   "execution_count": 49,
   "id": "7977e79e",
   "metadata": {},
   "outputs": [
    {
     "name": "stdout",
     "output_type": "stream",
     "text": [
      "                   Logistic_Regression\n",
      "------------------------------------------------------------\n",
      "Testing Accuracy: 0.73040\n",
      "Training Accuracy: 0.86144\n",
      "------------------------------------------------------------\n",
      "\n",
      "\n",
      "        K-Nearest Neighbors_Classifier\n",
      "------------------------------------------------------------\n",
      "Testing Accuracy: 0.69670\n",
      "Training Accuracy: 0.75147\n",
      "------------------------------------------------------------\n",
      "\n",
      "\n",
      "                Naive_Bayes_Classifier\n",
      "------------------------------------------------------------\n",
      "Testing Accuracy: 0.68226\n",
      "Training Accuracy: 0.75855\n",
      "------------------------------------------------------------\n",
      "\n",
      "\n",
      "              Random_Forest_Classifier\n",
      "------------------------------------------------------------\n",
      "Testing Accuracy: 0.72765\n",
      "Training Accuracy: 0.99941\n",
      "------------------------------------------------------------\n",
      "\n",
      "\n"
     ]
    }
   ],
   "source": [
    "test(X_train, X_test, y_train, y_test)"
   ]
  },
  {
   "cell_type": "code",
   "execution_count": 50,
   "id": "6cf916dc",
   "metadata": {},
   "outputs": [
    {
     "name": "stdout",
     "output_type": "stream",
     "text": [
      "                   Logistic_Regression\n",
      "\n",
      "Confusion Matrix\n",
      "[[ 49  94  24]\n",
      " [  6 824  41]\n",
      " [ 11 216 189]]\n",
      "\n",
      "Classifiation Report\n",
      "              precision    recall  f1-score   support\n",
      "\n",
      "    negative       0.74      0.29      0.42       167\n",
      "     neutral       0.73      0.95      0.82       871\n",
      "    positive       0.74      0.45      0.56       416\n",
      "\n",
      "    accuracy                           0.73      1454\n",
      "   macro avg       0.74      0.56      0.60      1454\n",
      "weighted avg       0.73      0.73      0.70      1454\n",
      "\n",
      "========================================================================================================================\n",
      "        K-Nearest Neighbors_Classifier\n",
      "\n",
      "Confusion Matrix\n",
      "[[ 61  81  25]\n",
      " [ 23 812  36]\n",
      " [ 44 232 140]]\n",
      "\n",
      "Classifiation Report\n",
      "              precision    recall  f1-score   support\n",
      "\n",
      "    negative       0.48      0.37      0.41       167\n",
      "     neutral       0.72      0.93      0.81       871\n",
      "    positive       0.70      0.34      0.45       416\n",
      "\n",
      "    accuracy                           0.70      1454\n",
      "   macro avg       0.63      0.54      0.56      1454\n",
      "weighted avg       0.69      0.70      0.66      1454\n",
      "\n",
      "========================================================================================================================\n",
      "                Naive_Bayes_Classifier\n",
      "\n",
      "Confusion Matrix\n",
      "[[  1 115  51]\n",
      " [  0 854  17]\n",
      " [  0 279 137]]\n",
      "\n",
      "Classifiation Report\n",
      "              precision    recall  f1-score   support\n",
      "\n",
      "    negative       1.00      0.01      0.01       167\n",
      "     neutral       0.68      0.98      0.81       871\n",
      "    positive       0.67      0.33      0.44       416\n",
      "\n",
      "    accuracy                           0.68      1454\n",
      "   macro avg       0.78      0.44      0.42      1454\n",
      "weighted avg       0.72      0.68      0.61      1454\n",
      "\n",
      "========================================================================================================================\n",
      "              Random_Forest_Classifier\n",
      "\n",
      "Confusion Matrix\n",
      "[[ 47  83  37]\n",
      " [  6 811  54]\n",
      " [  8 208 200]]\n",
      "\n",
      "Classifiation Report\n",
      "              precision    recall  f1-score   support\n",
      "\n",
      "    negative       0.77      0.28      0.41       167\n",
      "     neutral       0.74      0.93      0.82       871\n",
      "    positive       0.69      0.48      0.57       416\n",
      "\n",
      "    accuracy                           0.73      1454\n",
      "   macro avg       0.73      0.56      0.60      1454\n",
      "weighted avg       0.73      0.73      0.70      1454\n",
      "\n",
      "========================================================================================================================\n"
     ]
    }
   ],
   "source": [
    "for name, model in pipelines.items():\n",
    "    evalModel(name, model)\n"
   ]
  },
  {
   "cell_type": "code",
   "execution_count": null,
   "id": "77a410db",
   "metadata": {},
   "outputs": [],
   "source": []
  }
 ],
 "metadata": {
  "kernelspec": {
   "display_name": "Python 3 (ipykernel)",
   "language": "python",
   "name": "python3"
  },
  "language_info": {
   "codemirror_mode": {
    "name": "ipython",
    "version": 3
   },
   "file_extension": ".py",
   "mimetype": "text/x-python",
   "name": "python",
   "nbconvert_exporter": "python",
   "pygments_lexer": "ipython3",
   "version": "3.9.7"
  }
 },
 "nbformat": 4,
 "nbformat_minor": 5
}
